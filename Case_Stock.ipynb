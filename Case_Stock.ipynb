{
 "cells": [
  {
   "cell_type": "code",
   "execution_count": 2,
   "metadata": {},
   "outputs": [],
   "source": [
    "import pandas as pd\n",
    "import numpy as np\n",
    "import matplotlib.pyplot as plt\n",
    "import quandl\n",
    "import seaborn as sns"
   ]
  },
  {
   "cell_type": "code",
   "execution_count": 5,
   "metadata": {},
   "outputs": [],
   "source": [
    "data = quandl.get(\"WIKI/AAPL\",auth_token=\"CSpzhxRAuzQWywz_1s4s\")"
   ]
  },
  {
   "cell_type": "code",
   "execution_count": 6,
   "metadata": {},
   "outputs": [
    {
     "data": {
      "text/plain": [
       "pandas.core.frame.DataFrame"
      ]
     },
     "execution_count": 6,
     "metadata": {},
     "output_type": "execute_result"
    }
   ],
   "source": [
    "type(data)"
   ]
  },
  {
   "cell_type": "code",
   "execution_count": 7,
   "metadata": {},
   "outputs": [
    {
     "name": "stdout",
     "output_type": "stream",
     "text": [
      "<class 'pandas.core.frame.DataFrame'>\n",
      "DatetimeIndex: 9400 entries, 1980-12-12 to 2018-03-27\n",
      "Data columns (total 12 columns):\n",
      "Open           9400 non-null float64\n",
      "High           9400 non-null float64\n",
      "Low            9400 non-null float64\n",
      "Close          9400 non-null float64\n",
      "Volume         9400 non-null float64\n",
      "Ex-Dividend    9400 non-null float64\n",
      "Split Ratio    9400 non-null float64\n",
      "Adj. Open      9400 non-null float64\n",
      "Adj. High      9400 non-null float64\n",
      "Adj. Low       9400 non-null float64\n",
      "Adj. Close     9400 non-null float64\n",
      "Adj. Volume    9400 non-null float64\n",
      "dtypes: float64(12)\n",
      "memory usage: 954.7 KB\n"
     ]
    }
   ],
   "source": [
    "data.info()"
   ]
  },
  {
   "cell_type": "code",
   "execution_count": 9,
   "metadata": {},
   "outputs": [
    {
     "data": {
      "text/plain": [
       "Date\n",
       "1980-12-12     28.750\n",
       "1980-12-15     27.380\n",
       "1980-12-16     25.370\n",
       "1980-12-17     25.870\n",
       "1980-12-18     26.630\n",
       "1980-12-19     28.250\n",
       "1980-12-22     29.630\n",
       "1980-12-23     30.880\n",
       "1980-12-24     32.500\n",
       "1980-12-26     35.500\n",
       "1980-12-29     36.000\n",
       "1980-12-30     35.250\n",
       "1980-12-31     34.250\n",
       "1981-01-02     34.500\n",
       "1981-01-05     33.870\n",
       "1981-01-06     32.370\n",
       "1981-01-07     31.000\n",
       "1981-01-08     30.370\n",
       "1981-01-09     31.880\n",
       "1981-01-12     31.880\n",
       "1981-01-13     30.630\n",
       "1981-01-14     30.630\n",
       "1981-01-15     31.250\n",
       "1981-01-16     31.120\n",
       "1981-01-19     32.870\n",
       "1981-01-20     32.000\n",
       "1981-01-21     32.500\n",
       "1981-01-22     32.870\n",
       "1981-01-23     32.870\n",
       "1981-01-26     32.370\n",
       "               ...   \n",
       "2018-02-13    161.950\n",
       "2018-02-14    163.045\n",
       "2018-02-15    169.790\n",
       "2018-02-16    172.360\n",
       "2018-02-20    172.050\n",
       "2018-02-21    172.830\n",
       "2018-02-22    171.800\n",
       "2018-02-23    173.670\n",
       "2018-02-26    176.350\n",
       "2018-02-27    179.100\n",
       "2018-02-28    179.260\n",
       "2018-03-01    178.540\n",
       "2018-03-02    172.800\n",
       "2018-03-05    175.210\n",
       "2018-03-06    177.910\n",
       "2018-03-07    174.940\n",
       "2018-03-08    175.480\n",
       "2018-03-09    177.960\n",
       "2018-03-12    180.290\n",
       "2018-03-13    182.590\n",
       "2018-03-14    180.320\n",
       "2018-03-15    178.500\n",
       "2018-03-16    178.650\n",
       "2018-03-19    177.320\n",
       "2018-03-20    175.240\n",
       "2018-03-21    175.040\n",
       "2018-03-22    170.000\n",
       "2018-03-23    168.390\n",
       "2018-03-26    168.070\n",
       "2018-03-27    173.680\n",
       "Name: Open, Length: 9400, dtype: float64"
      ]
     },
     "execution_count": 9,
     "metadata": {},
     "output_type": "execute_result"
    }
   ],
   "source": [
    "data.Open"
   ]
  },
  {
   "cell_type": "code",
   "execution_count": 10,
   "metadata": {},
   "outputs": [],
   "source": [
    "small_data = data.iloc[:,0:4]"
   ]
  },
  {
   "cell_type": "code",
   "execution_count": 11,
   "metadata": {},
   "outputs": [
    {
     "data": {
      "text/html": [
       "<div>\n",
       "<style scoped>\n",
       "    .dataframe tbody tr th:only-of-type {\n",
       "        vertical-align: middle;\n",
       "    }\n",
       "\n",
       "    .dataframe tbody tr th {\n",
       "        vertical-align: top;\n",
       "    }\n",
       "\n",
       "    .dataframe thead th {\n",
       "        text-align: right;\n",
       "    }\n",
       "</style>\n",
       "<table border=\"1\" class=\"dataframe\">\n",
       "  <thead>\n",
       "    <tr style=\"text-align: right;\">\n",
       "      <th></th>\n",
       "      <th>Open</th>\n",
       "      <th>High</th>\n",
       "      <th>Low</th>\n",
       "      <th>Close</th>\n",
       "    </tr>\n",
       "    <tr>\n",
       "      <th>Date</th>\n",
       "      <th></th>\n",
       "      <th></th>\n",
       "      <th></th>\n",
       "      <th></th>\n",
       "    </tr>\n",
       "  </thead>\n",
       "  <tbody>\n",
       "    <tr>\n",
       "      <th>1980-12-12</th>\n",
       "      <td>28.75</td>\n",
       "      <td>28.87</td>\n",
       "      <td>28.75</td>\n",
       "      <td>28.75</td>\n",
       "    </tr>\n",
       "    <tr>\n",
       "      <th>1980-12-15</th>\n",
       "      <td>27.38</td>\n",
       "      <td>27.38</td>\n",
       "      <td>27.25</td>\n",
       "      <td>27.25</td>\n",
       "    </tr>\n",
       "    <tr>\n",
       "      <th>1980-12-16</th>\n",
       "      <td>25.37</td>\n",
       "      <td>25.37</td>\n",
       "      <td>25.25</td>\n",
       "      <td>25.25</td>\n",
       "    </tr>\n",
       "  </tbody>\n",
       "</table>\n",
       "</div>"
      ],
      "text/plain": [
       "             Open   High    Low  Close\n",
       "Date                                  \n",
       "1980-12-12  28.75  28.87  28.75  28.75\n",
       "1980-12-15  27.38  27.38  27.25  27.25\n",
       "1980-12-16  25.37  25.37  25.25  25.25"
      ]
     },
     "execution_count": 11,
     "metadata": {},
     "output_type": "execute_result"
    }
   ],
   "source": [
    "small_data.head(3)"
   ]
  },
  {
   "cell_type": "code",
   "execution_count": 12,
   "metadata": {},
   "outputs": [
    {
     "data": {
      "text/plain": [
       "<matplotlib.axes._subplots.AxesSubplot at 0x2987a768710>"
      ]
     },
     "execution_count": 12,
     "metadata": {},
     "output_type": "execute_result"
    },
    {
     "data": {
      "image/png": "[encoded data removed]",
      "text/plain": [
       "<matplotlib.figure.Figure at 0x2987a740908>"
      ]
     },
     "metadata": {},
     "output_type": "display_data"
    }
   ],
   "source": [
    "small_data.plot()"
   ]
  },
  {
   "cell_type": "code",
   "execution_count": 17,
   "metadata": {},
   "outputs": [
    {
     "name": "stderr",
     "output_type": "stream",
     "text": [
      "C:\\Users\\ADStudent\\AppData\\Local\\Continuum\\anaconda3\\lib\\site-packages\\ipykernel_launcher.py:1: SettingWithCopyWarning: \n",
      "A value is trying to be set on a copy of a slice from a DataFrame.\n",
      "Try using .loc[row_indexer,col_indexer] = value instead\n",
      "\n",
      "See the caveats in the documentation: http://pandas.pydata.org/pandas-docs/stable/indexing.html#indexing-view-versus-copy\n",
      "  \"\"\"Entry point for launching an IPython kernel.\n"
     ]
    }
   ],
   "source": [
    "small_data[\"Open_Change\"]=small_data.Open.pct_change()"
   ]
  },
  {
   "cell_type": "code",
   "execution_count": 18,
   "metadata": {},
   "outputs": [
    {
     "data": {
      "text/html": [
       "<div>\n",
       "<style scoped>\n",
       "    .dataframe tbody tr th:only-of-type {\n",
       "        vertical-align: middle;\n",
       "    }\n",
       "\n",
       "    .dataframe tbody tr th {\n",
       "        vertical-align: top;\n",
       "    }\n",
       "\n",
       "    .dataframe thead th {\n",
       "        text-align: right;\n",
       "    }\n",
       "</style>\n",
       "<table border=\"1\" class=\"dataframe\">\n",
       "  <thead>\n",
       "    <tr style=\"text-align: right;\">\n",
       "      <th></th>\n",
       "      <th>Open</th>\n",
       "      <th>High</th>\n",
       "      <th>Low</th>\n",
       "      <th>Close</th>\n",
       "      <th>Open_Change</th>\n",
       "    </tr>\n",
       "    <tr>\n",
       "      <th>Date</th>\n",
       "      <th></th>\n",
       "      <th></th>\n",
       "      <th></th>\n",
       "      <th></th>\n",
       "      <th></th>\n",
       "    </tr>\n",
       "  </thead>\n",
       "  <tbody>\n",
       "    <tr>\n",
       "      <th>1980-12-12</th>\n",
       "      <td>28.75</td>\n",
       "      <td>28.87</td>\n",
       "      <td>28.75</td>\n",
       "      <td>28.75</td>\n",
       "      <td>NaN</td>\n",
       "    </tr>\n",
       "    <tr>\n",
       "      <th>1980-12-15</th>\n",
       "      <td>27.38</td>\n",
       "      <td>27.38</td>\n",
       "      <td>27.25</td>\n",
       "      <td>27.25</td>\n",
       "      <td>-0.047652</td>\n",
       "    </tr>\n",
       "    <tr>\n",
       "      <th>1980-12-16</th>\n",
       "      <td>25.37</td>\n",
       "      <td>25.37</td>\n",
       "      <td>25.25</td>\n",
       "      <td>25.25</td>\n",
       "      <td>-0.073411</td>\n",
       "    </tr>\n",
       "  </tbody>\n",
       "</table>\n",
       "</div>"
      ],
      "text/plain": [
       "             Open   High    Low  Close  Open_Change\n",
       "Date                                               \n",
       "1980-12-12  28.75  28.87  28.75  28.75          NaN\n",
       "1980-12-15  27.38  27.38  27.25  27.25    -0.047652\n",
       "1980-12-16  25.37  25.37  25.25  25.25    -0.073411"
      ]
     },
     "execution_count": 18,
     "metadata": {},
     "output_type": "execute_result"
    }
   ],
   "source": [
    "small_data.head(3)"
   ]
  },
  {
   "cell_type": "code",
   "execution_count": 19,
   "metadata": {},
   "outputs": [
    {
     "data": {
      "text/html": [
       "<div>\n",
       "<style scoped>\n",
       "    .dataframe tbody tr th:only-of-type {\n",
       "        vertical-align: middle;\n",
       "    }\n",
       "\n",
       "    .dataframe tbody tr th {\n",
       "        vertical-align: top;\n",
       "    }\n",
       "\n",
       "    .dataframe thead th {\n",
       "        text-align: right;\n",
       "    }\n",
       "</style>\n",
       "<table border=\"1\" class=\"dataframe\">\n",
       "  <thead>\n",
       "    <tr style=\"text-align: right;\">\n",
       "      <th></th>\n",
       "      <th>Open</th>\n",
       "      <th>High</th>\n",
       "      <th>Low</th>\n",
       "      <th>Close</th>\n",
       "      <th>Open_Change</th>\n",
       "    </tr>\n",
       "    <tr>\n",
       "      <th>Date</th>\n",
       "      <th></th>\n",
       "      <th></th>\n",
       "      <th></th>\n",
       "      <th></th>\n",
       "      <th></th>\n",
       "    </tr>\n",
       "  </thead>\n",
       "  <tbody>\n",
       "    <tr>\n",
       "      <th>1980-12-15</th>\n",
       "      <td>27.38</td>\n",
       "      <td>27.38</td>\n",
       "      <td>27.25</td>\n",
       "      <td>27.25</td>\n",
       "      <td>-0.047652</td>\n",
       "    </tr>\n",
       "    <tr>\n",
       "      <th>1980-12-16</th>\n",
       "      <td>25.37</td>\n",
       "      <td>25.37</td>\n",
       "      <td>25.25</td>\n",
       "      <td>25.25</td>\n",
       "      <td>-0.073411</td>\n",
       "    </tr>\n",
       "    <tr>\n",
       "      <th>1980-12-17</th>\n",
       "      <td>25.87</td>\n",
       "      <td>26.00</td>\n",
       "      <td>25.87</td>\n",
       "      <td>25.87</td>\n",
       "      <td>0.019708</td>\n",
       "    </tr>\n",
       "  </tbody>\n",
       "</table>\n",
       "</div>"
      ],
      "text/plain": [
       "             Open   High    Low  Close  Open_Change\n",
       "Date                                               \n",
       "1980-12-15  27.38  27.38  27.25  27.25    -0.047652\n",
       "1980-12-16  25.37  25.37  25.25  25.25    -0.073411\n",
       "1980-12-17  25.87  26.00  25.87  25.87     0.019708"
      ]
     },
     "execution_count": 19,
     "metadata": {},
     "output_type": "execute_result"
    }
   ],
   "source": [
    "small_data=small_data.dropna()\n",
    "small_data.head(3)"
   ]
  },
  {
   "cell_type": "code",
   "execution_count": 23,
   "metadata": {},
   "outputs": [
    {
     "data": {
      "text/plain": [
       "<matplotlib.axes._subplots.AxesSubplot at 0x2987bf09cc0>"
      ]
     },
     "execution_count": 23,
     "metadata": {},
     "output_type": "execute_result"
    },
    {
     "data": {
      "image/png": "[encoded data removed]",
      "text/plain": [
       "<matplotlib.figure.Figure at 0x2987bef0a58>"
      ]
     },
     "metadata": {},
     "output_type": "display_data"
    }
   ],
   "source": [
    "small_data.Open_Change.plot()"
   ]
  },
  {
   "cell_type": "code",
   "execution_count": 25,
   "metadata": {},
   "outputs": [
    {
     "data": {
      "text/plain": [
       "<matplotlib.axes._subplots.AxesSubplot at 0x2987d5c08d0>"
      ]
     },
     "execution_count": 25,
     "metadata": {},
     "output_type": "execute_result"
    },
    {
     "data": {
      "image/png": "[encoded data removed]",
      "text/plain": [
       "<matplotlib.figure.Figure at 0x2987d51b5f8>"
      ]
     },
     "metadata": {},
     "output_type": "display_data"
    }
   ],
   "source": [
    "sns.distplot(small_data.Open_Change)"
   ]
  },
  {
   "cell_type": "code",
   "execution_count": 31,
   "metadata": {},
   "outputs": [
    {
     "data": {
      "text/plain": [
       "Date\n",
       "1980-12-15   -0.047652\n",
       "1980-12-16   -0.073411\n",
       "1980-12-17    0.019708\n",
       "1980-12-18    0.029378\n",
       "1980-12-19    0.060834\n",
       "1980-12-22    0.048850\n",
       "1980-12-23    0.042187\n",
       "1980-12-24    0.052461\n",
       "1980-12-26    0.092308\n",
       "1980-12-29    0.014085\n",
       "1980-12-30   -0.020833\n",
       "1980-12-31   -0.028369\n",
       "1981-01-02    0.007299\n",
       "1981-01-05   -0.018261\n",
       "1981-01-06   -0.044287\n",
       "1981-01-07   -0.042323\n",
       "1981-01-08   -0.020323\n",
       "1981-01-09    0.049720\n",
       "1981-01-12    0.000000\n",
       "1981-01-13   -0.039210\n",
       "1981-01-14    0.000000\n",
       "1981-01-15    0.020242\n",
       "1981-01-16   -0.004160\n",
       "1981-01-19    0.056234\n",
       "1981-01-20   -0.026468\n",
       "1981-01-21    0.015625\n",
       "1981-01-22    0.011385\n",
       "1981-01-23    0.000000\n",
       "1981-01-26   -0.015211\n",
       "1981-01-27   -0.003707\n",
       "                ...   \n",
       "2018-02-13    0.021767\n",
       "2018-02-14    0.006761\n",
       "2018-02-15    0.041369\n",
       "2018-02-16    0.015136\n",
       "2018-02-20   -0.001799\n",
       "2018-02-21    0.004534\n",
       "2018-02-22   -0.005960\n",
       "2018-02-23    0.010885\n",
       "2018-02-26    0.015432\n",
       "2018-02-27    0.015594\n",
       "2018-02-28    0.000893\n",
       "2018-03-01   -0.004017\n",
       "2018-03-02   -0.032150\n",
       "2018-03-05    0.013947\n",
       "2018-03-06    0.015410\n",
       "2018-03-07   -0.016694\n",
       "2018-03-08    0.003087\n",
       "2018-03-09    0.014133\n",
       "2018-03-12    0.013093\n",
       "2018-03-13    0.012757\n",
       "2018-03-14   -0.012432\n",
       "2018-03-15   -0.010093\n",
       "2018-03-16    0.000840\n",
       "2018-03-19   -0.007445\n",
       "2018-03-20   -0.011730\n",
       "2018-03-21   -0.001141\n",
       "2018-03-22   -0.028793\n",
       "2018-03-23   -0.009471\n",
       "2018-03-26   -0.001900\n",
       "2018-03-27    0.033379\n",
       "Name: Open_Change, Length: 9395, dtype: float64"
      ]
     },
     "execution_count": 31,
     "metadata": {},
     "output_type": "execute_result"
    }
   ],
   "source": [
    "#(-0.8,-0.4) &-And\n",
    "#(-inf,-0.8),(-0.4,+inf) |-OR\n",
    "\n",
    "condition_1 = small_data.Open_Change>-0.4\n",
    "condition_2 = small_data.Open_Change<-0.8\n",
    "small_data.Open_Change[condition_1|condition_2]\n",
    "\n",
    "\n"
   ]
  },
  {
   "cell_type": "code",
   "execution_count": 32,
   "metadata": {},
   "outputs": [
    {
     "data": {
      "text/html": [
       "<div>\n",
       "<style scoped>\n",
       "    .dataframe tbody tr th:only-of-type {\n",
       "        vertical-align: middle;\n",
       "    }\n",
       "\n",
       "    .dataframe tbody tr th {\n",
       "        vertical-align: top;\n",
       "    }\n",
       "\n",
       "    .dataframe thead th {\n",
       "        text-align: right;\n",
       "    }\n",
       "</style>\n",
       "<table border=\"1\" class=\"dataframe\">\n",
       "  <thead>\n",
       "    <tr style=\"text-align: right;\">\n",
       "      <th></th>\n",
       "      <th>Open</th>\n",
       "      <th>High</th>\n",
       "      <th>Low</th>\n",
       "      <th>Close</th>\n",
       "      <th>Open_Change</th>\n",
       "    </tr>\n",
       "    <tr>\n",
       "      <th>Date</th>\n",
       "      <th></th>\n",
       "      <th></th>\n",
       "      <th></th>\n",
       "      <th></th>\n",
       "      <th></th>\n",
       "    </tr>\n",
       "  </thead>\n",
       "  <tbody>\n",
       "    <tr>\n",
       "      <th>1980-12-15</th>\n",
       "      <td>27.38</td>\n",
       "      <td>27.38</td>\n",
       "      <td>27.25</td>\n",
       "      <td>27.25</td>\n",
       "      <td>-0.047652</td>\n",
       "    </tr>\n",
       "    <tr>\n",
       "      <th>1980-12-16</th>\n",
       "      <td>25.37</td>\n",
       "      <td>25.37</td>\n",
       "      <td>25.25</td>\n",
       "      <td>25.25</td>\n",
       "      <td>-0.073411</td>\n",
       "    </tr>\n",
       "    <tr>\n",
       "      <th>1980-12-17</th>\n",
       "      <td>25.87</td>\n",
       "      <td>26.00</td>\n",
       "      <td>25.87</td>\n",
       "      <td>25.87</td>\n",
       "      <td>0.019708</td>\n",
       "    </tr>\n",
       "  </tbody>\n",
       "</table>\n",
       "</div>"
      ],
      "text/plain": [
       "             Open   High    Low  Close  Open_Change\n",
       "Date                                               \n",
       "1980-12-15  27.38  27.38  27.25  27.25    -0.047652\n",
       "1980-12-16  25.37  25.37  25.25  25.25    -0.073411\n",
       "1980-12-17  25.87  26.00  25.87  25.87     0.019708"
      ]
     },
     "execution_count": 32,
     "metadata": {},
     "output_type": "execute_result"
    }
   ],
   "source": [
    "small_data.head(3)"
   ]
  },
  {
   "cell_type": "code",
   "execution_count": 33,
   "metadata": {},
   "outputs": [],
   "source": [
    "def classifier(x):\n",
    "    if x>0:\n",
    "        output='Higher'\n",
    "    else:\n",
    "        output=\"Lower\" \n",
    "    return output "
   ]
  },
  {
   "cell_type": "code",
   "execution_count": 34,
   "metadata": {},
   "outputs": [
    {
     "data": {
      "text/plain": [
       "Date\n",
       "1980-12-15     Lower\n",
       "1980-12-16     Lower\n",
       "1980-12-17    Higher\n",
       "1980-12-18    Higher\n",
       "1980-12-19    Higher\n",
       "1980-12-22    Higher\n",
       "1980-12-23    Higher\n",
       "1980-12-24    Higher\n",
       "1980-12-26    Higher\n",
       "1980-12-29    Higher\n",
       "1980-12-30     Lower\n",
       "1980-12-31     Lower\n",
       "1981-01-02    Higher\n",
       "1981-01-05     Lower\n",
       "1981-01-06     Lower\n",
       "1981-01-07     Lower\n",
       "1981-01-08     Lower\n",
       "1981-01-09    Higher\n",
       "1981-01-12     Lower\n",
       "1981-01-13     Lower\n",
       "1981-01-14     Lower\n",
       "1981-01-15    Higher\n",
       "1981-01-16     Lower\n",
       "1981-01-19    Higher\n",
       "1981-01-20     Lower\n",
       "1981-01-21    Higher\n",
       "1981-01-22    Higher\n",
       "1981-01-23     Lower\n",
       "1981-01-26     Lower\n",
       "1981-01-27     Lower\n",
       "               ...  \n",
       "2018-02-13    Higher\n",
       "2018-02-14    Higher\n",
       "2018-02-15    Higher\n",
       "2018-02-16    Higher\n",
       "2018-02-20     Lower\n",
       "2018-02-21    Higher\n",
       "2018-02-22     Lower\n",
       "2018-02-23    Higher\n",
       "2018-02-26    Higher\n",
       "2018-02-27    Higher\n",
       "2018-02-28    Higher\n",
       "2018-03-01     Lower\n",
       "2018-03-02     Lower\n",
       "2018-03-05    Higher\n",
       "2018-03-06    Higher\n",
       "2018-03-07     Lower\n",
       "2018-03-08    Higher\n",
       "2018-03-09    Higher\n",
       "2018-03-12    Higher\n",
       "2018-03-13    Higher\n",
       "2018-03-14     Lower\n",
       "2018-03-15     Lower\n",
       "2018-03-16    Higher\n",
       "2018-03-19     Lower\n",
       "2018-03-20     Lower\n",
       "2018-03-21     Lower\n",
       "2018-03-22     Lower\n",
       "2018-03-23     Lower\n",
       "2018-03-26     Lower\n",
       "2018-03-27    Higher\n",
       "Name: Open_Change, Length: 9399, dtype: object"
      ]
     },
     "execution_count": 34,
     "metadata": {},
     "output_type": "execute_result"
    }
   ],
   "source": [
    "small_data.Open_Change.apply(classifier)"
   ]
  },
  {
   "cell_type": "code",
   "execution_count": 47,
   "metadata": {},
   "outputs": [],
   "source": [
    "median = small_data.Open.median()"
   ]
  },
  {
   "cell_type": "code",
   "execution_count": 50,
   "metadata": {},
   "outputs": [
    {
     "data": {
      "text/plain": [
       "43.75"
      ]
     },
     "execution_count": 50,
     "metadata": {},
     "output_type": "execute_result"
    }
   ],
   "source": [
    "median"
   ]
  },
  {
   "cell_type": "code",
   "execution_count": 48,
   "metadata": {},
   "outputs": [],
   "source": [
    "def classifier2(x):\n",
    "    if x>median:\n",
    "        output=\"Higher\"\n",
    "    else:\n",
    "        output=\"Lower\" \n",
    "    return output "
   ]
  },
  {
   "cell_type": "code",
   "execution_count": 52,
   "metadata": {},
   "outputs": [
    {
     "data": {
      "text/plain": [
       "Date\n",
       "1980-12-15     Lower\n",
       "1980-12-16     Lower\n",
       "1980-12-17     Lower\n",
       "1980-12-18     Lower\n",
       "1980-12-19     Lower\n",
       "1980-12-22     Lower\n",
       "1980-12-23     Lower\n",
       "1980-12-24     Lower\n",
       "1980-12-26     Lower\n",
       "1980-12-29     Lower\n",
       "1980-12-30     Lower\n",
       "1980-12-31     Lower\n",
       "1981-01-02     Lower\n",
       "1981-01-05     Lower\n",
       "1981-01-06     Lower\n",
       "1981-01-07     Lower\n",
       "1981-01-08     Lower\n",
       "1981-01-09     Lower\n",
       "1981-01-12     Lower\n",
       "1981-01-13     Lower\n",
       "1981-01-14     Lower\n",
       "1981-01-15     Lower\n",
       "1981-01-16     Lower\n",
       "1981-01-19     Lower\n",
       "1981-01-20     Lower\n",
       "1981-01-21     Lower\n",
       "1981-01-22     Lower\n",
       "1981-01-23     Lower\n",
       "1981-01-26     Lower\n",
       "1981-01-27     Lower\n",
       "               ...  \n",
       "2018-02-13    Higher\n",
       "2018-02-14    Higher\n",
       "2018-02-15    Higher\n",
       "2018-02-16    Higher\n",
       "2018-02-20    Higher\n",
       "2018-02-21    Higher\n",
       "2018-02-22    Higher\n",
       "2018-02-23    Higher\n",
       "2018-02-26    Higher\n",
       "2018-02-27    Higher\n",
       "2018-02-28    Higher\n",
       "2018-03-01    Higher\n",
       "2018-03-02    Higher\n",
       "2018-03-05    Higher\n",
       "2018-03-06    Higher\n",
       "2018-03-07    Higher\n",
       "2018-03-08    Higher\n",
       "2018-03-09    Higher\n",
       "2018-03-12    Higher\n",
       "2018-03-13    Higher\n",
       "2018-03-14    Higher\n",
       "2018-03-15    Higher\n",
       "2018-03-16    Higher\n",
       "2018-03-19    Higher\n",
       "2018-03-20    Higher\n",
       "2018-03-21    Higher\n",
       "2018-03-22    Higher\n",
       "2018-03-23    Higher\n",
       "2018-03-26    Higher\n",
       "2018-03-27    Higher\n",
       "Name: Open, Length: 9399, dtype: object"
      ]
     },
     "execution_count": 52,
     "metadata": {},
     "output_type": "execute_result"
    }
   ],
   "source": [
    "small_data.Open.apply(classifier2)"
   ]
  },
  {
   "cell_type": "code",
   "execution_count": 53,
   "metadata": {},
   "outputs": [
    {
     "data": {
      "text/plain": [
       "array(['Lower', 'Lower', 'Lower', ..., 'Higher', 'Higher', 'Higher'],\n",
       "      dtype='<U6')"
      ]
     },
     "execution_count": 53,
     "metadata": {},
     "output_type": "execute_result"
    }
   ],
   "source": [
    "np.where(small_data.Open>small_data.Open.median(),\"Higher\",\"Lower\")"
   ]
  },
  {
   "cell_type": "code",
   "execution_count": 54,
   "metadata": {},
   "outputs": [],
   "source": [
    "small_data[\"Classes\"]=np.where(small_data.Open>small_data.Open.median(),\"Higher\",\"Lower\")"
   ]
  },
  {
   "cell_type": "code",
   "execution_count": 56,
   "metadata": {},
   "outputs": [
    {
     "data": {
      "text/html": [
       "<div>\n",
       "<style scoped>\n",
       "    .dataframe tbody tr th:only-of-type {\n",
       "        vertical-align: middle;\n",
       "    }\n",
       "\n",
       "    .dataframe tbody tr th {\n",
       "        vertical-align: top;\n",
       "    }\n",
       "\n",
       "    .dataframe thead th {\n",
       "        text-align: right;\n",
       "    }\n",
       "</style>\n",
       "<table border=\"1\" class=\"dataframe\">\n",
       "  <thead>\n",
       "    <tr style=\"text-align: right;\">\n",
       "      <th></th>\n",
       "      <th>Open</th>\n",
       "      <th>High</th>\n",
       "      <th>Low</th>\n",
       "      <th>Close</th>\n",
       "      <th>Open_Change</th>\n",
       "      <th>Classes</th>\n",
       "    </tr>\n",
       "    <tr>\n",
       "      <th>Date</th>\n",
       "      <th></th>\n",
       "      <th></th>\n",
       "      <th></th>\n",
       "      <th></th>\n",
       "      <th></th>\n",
       "      <th></th>\n",
       "    </tr>\n",
       "  </thead>\n",
       "  <tbody>\n",
       "    <tr>\n",
       "      <th>1980-12-15</th>\n",
       "      <td>27.38</td>\n",
       "      <td>27.38</td>\n",
       "      <td>27.25</td>\n",
       "      <td>27.25</td>\n",
       "      <td>-0.047652</td>\n",
       "      <td>Lower</td>\n",
       "    </tr>\n",
       "    <tr>\n",
       "      <th>1980-12-16</th>\n",
       "      <td>25.37</td>\n",
       "      <td>25.37</td>\n",
       "      <td>25.25</td>\n",
       "      <td>25.25</td>\n",
       "      <td>-0.073411</td>\n",
       "      <td>Lower</td>\n",
       "    </tr>\n",
       "    <tr>\n",
       "      <th>1980-12-17</th>\n",
       "      <td>25.87</td>\n",
       "      <td>26.00</td>\n",
       "      <td>25.87</td>\n",
       "      <td>25.87</td>\n",
       "      <td>0.019708</td>\n",
       "      <td>Lower</td>\n",
       "    </tr>\n",
       "  </tbody>\n",
       "</table>\n",
       "</div>"
      ],
      "text/plain": [
       "             Open   High    Low  Close  Open_Change Classes\n",
       "Date                                                       \n",
       "1980-12-15  27.38  27.38  27.25  27.25    -0.047652   Lower\n",
       "1980-12-16  25.37  25.37  25.25  25.25    -0.073411   Lower\n",
       "1980-12-17  25.87  26.00  25.87  25.87     0.019708   Lower"
      ]
     },
     "execution_count": 56,
     "metadata": {},
     "output_type": "execute_result"
    }
   ],
   "source": [
    "small_data.head(3)"
   ]
  },
  {
   "cell_type": "code",
   "execution_count": 67,
   "metadata": {},
   "outputs": [],
   "source": [
    "data_pivot= pd.pivot_table(data=small_data,values=\"Open\",index=\"Classes\",aggfunc=\"std\")"
   ]
  },
  {
   "cell_type": "code",
   "execution_count": 68,
   "metadata": {},
   "outputs": [
    {
     "data": {
      "text/html": [
       "<div>\n",
       "<style scoped>\n",
       "    .dataframe tbody tr th:only-of-type {\n",
       "        vertical-align: middle;\n",
       "    }\n",
       "\n",
       "    .dataframe tbody tr th {\n",
       "        vertical-align: top;\n",
       "    }\n",
       "\n",
       "    .dataframe thead th {\n",
       "        text-align: right;\n",
       "    }\n",
       "</style>\n",
       "<table border=\"1\" class=\"dataframe\">\n",
       "  <thead>\n",
       "    <tr style=\"text-align: right;\">\n",
       "      <th></th>\n",
       "      <th>Open</th>\n",
       "    </tr>\n",
       "    <tr>\n",
       "      <th>Classes</th>\n",
       "      <th></th>\n",
       "    </tr>\n",
       "  </thead>\n",
       "  <tbody>\n",
       "    <tr>\n",
       "      <th>Higher</th>\n",
       "      <td>160.496397</td>\n",
       "    </tr>\n",
       "    <tr>\n",
       "      <th>Lower</th>\n",
       "      <td>8.844097</td>\n",
       "    </tr>\n",
       "  </tbody>\n",
       "</table>\n",
       "</div>"
      ],
      "text/plain": [
       "               Open\n",
       "Classes            \n",
       "Higher   160.496397\n",
       "Lower      8.844097"
      ]
     },
     "execution_count": 68,
     "metadata": {},
     "output_type": "execute_result"
    }
   ],
   "source": [
    "data_pivot"
   ]
  },
  {
   "cell_type": "code",
   "execution_count": 69,
   "metadata": {},
   "outputs": [
    {
     "data": {
      "text/html": [
       "<div>\n",
       "<style scoped>\n",
       "    .dataframe tbody tr th:only-of-type {\n",
       "        vertical-align: middle;\n",
       "    }\n",
       "\n",
       "    .dataframe tbody tr th {\n",
       "        vertical-align: top;\n",
       "    }\n",
       "\n",
       "    .dataframe thead th {\n",
       "        text-align: right;\n",
       "    }\n",
       "</style>\n",
       "<table border=\"1\" class=\"dataframe\">\n",
       "  <thead>\n",
       "    <tr style=\"text-align: right;\">\n",
       "      <th></th>\n",
       "      <th>Open</th>\n",
       "      <th>High</th>\n",
       "      <th>Low</th>\n",
       "      <th>Close</th>\n",
       "      <th>Open_Change</th>\n",
       "      <th>Classes</th>\n",
       "    </tr>\n",
       "    <tr>\n",
       "      <th>Date</th>\n",
       "      <th></th>\n",
       "      <th></th>\n",
       "      <th></th>\n",
       "      <th></th>\n",
       "      <th></th>\n",
       "      <th></th>\n",
       "    </tr>\n",
       "  </thead>\n",
       "  <tbody>\n",
       "    <tr>\n",
       "      <th>1980-12-15</th>\n",
       "      <td>27.38</td>\n",
       "      <td>27.38</td>\n",
       "      <td>27.25</td>\n",
       "      <td>27.25</td>\n",
       "      <td>-0.047652</td>\n",
       "      <td>Lower</td>\n",
       "    </tr>\n",
       "    <tr>\n",
       "      <th>1980-12-16</th>\n",
       "      <td>25.37</td>\n",
       "      <td>25.37</td>\n",
       "      <td>25.25</td>\n",
       "      <td>25.25</td>\n",
       "      <td>-0.073411</td>\n",
       "      <td>Lower</td>\n",
       "    </tr>\n",
       "    <tr>\n",
       "      <th>1980-12-17</th>\n",
       "      <td>25.87</td>\n",
       "      <td>26.00</td>\n",
       "      <td>25.87</td>\n",
       "      <td>25.87</td>\n",
       "      <td>0.019708</td>\n",
       "      <td>Lower</td>\n",
       "    </tr>\n",
       "  </tbody>\n",
       "</table>\n",
       "</div>"
      ],
      "text/plain": [
       "             Open   High    Low  Close  Open_Change Classes\n",
       "Date                                                       \n",
       "1980-12-15  27.38  27.38  27.25  27.25    -0.047652   Lower\n",
       "1980-12-16  25.37  25.37  25.25  25.25    -0.073411   Lower\n",
       "1980-12-17  25.87  26.00  25.87  25.87     0.019708   Lower"
      ]
     },
     "execution_count": 69,
     "metadata": {},
     "output_type": "execute_result"
    }
   ],
   "source": [
    "small_data.head(3)"
   ]
  },
  {
   "cell_type": "code",
   "execution_count": 71,
   "metadata": {},
   "outputs": [],
   "source": [
    "small_data.columns=['Open', 'High', 'Low', 'Close', 'Pct_Change', 'Classes']"
   ]
  },
  {
   "cell_type": "code",
   "execution_count": 72,
   "metadata": {},
   "outputs": [
    {
     "data": {
      "text/html": [
       "<div>\n",
       "<style scoped>\n",
       "    .dataframe tbody tr th:only-of-type {\n",
       "        vertical-align: middle;\n",
       "    }\n",
       "\n",
       "    .dataframe tbody tr th {\n",
       "        vertical-align: top;\n",
       "    }\n",
       "\n",
       "    .dataframe thead th {\n",
       "        text-align: right;\n",
       "    }\n",
       "</style>\n",
       "<table border=\"1\" class=\"dataframe\">\n",
       "  <thead>\n",
       "    <tr style=\"text-align: right;\">\n",
       "      <th></th>\n",
       "      <th>Open</th>\n",
       "      <th>High</th>\n",
       "      <th>Low</th>\n",
       "      <th>Close</th>\n",
       "      <th>Pct_Change</th>\n",
       "      <th>Classes</th>\n",
       "    </tr>\n",
       "    <tr>\n",
       "      <th>Date</th>\n",
       "      <th></th>\n",
       "      <th></th>\n",
       "      <th></th>\n",
       "      <th></th>\n",
       "      <th></th>\n",
       "      <th></th>\n",
       "    </tr>\n",
       "  </thead>\n",
       "  <tbody>\n",
       "    <tr>\n",
       "      <th>1980-12-15</th>\n",
       "      <td>27.38</td>\n",
       "      <td>27.38</td>\n",
       "      <td>27.25</td>\n",
       "      <td>27.25</td>\n",
       "      <td>-0.047652</td>\n",
       "      <td>Lower</td>\n",
       "    </tr>\n",
       "    <tr>\n",
       "      <th>1980-12-16</th>\n",
       "      <td>25.37</td>\n",
       "      <td>25.37</td>\n",
       "      <td>25.25</td>\n",
       "      <td>25.25</td>\n",
       "      <td>-0.073411</td>\n",
       "      <td>Lower</td>\n",
       "    </tr>\n",
       "    <tr>\n",
       "      <th>1980-12-17</th>\n",
       "      <td>25.87</td>\n",
       "      <td>26.00</td>\n",
       "      <td>25.87</td>\n",
       "      <td>25.87</td>\n",
       "      <td>0.019708</td>\n",
       "      <td>Lower</td>\n",
       "    </tr>\n",
       "    <tr>\n",
       "      <th>1980-12-18</th>\n",
       "      <td>26.63</td>\n",
       "      <td>26.75</td>\n",
       "      <td>26.63</td>\n",
       "      <td>26.63</td>\n",
       "      <td>0.029378</td>\n",
       "      <td>Lower</td>\n",
       "    </tr>\n",
       "    <tr>\n",
       "      <th>1980-12-19</th>\n",
       "      <td>28.25</td>\n",
       "      <td>28.38</td>\n",
       "      <td>28.25</td>\n",
       "      <td>28.25</td>\n",
       "      <td>0.060834</td>\n",
       "      <td>Lower</td>\n",
       "    </tr>\n",
       "  </tbody>\n",
       "</table>\n",
       "</div>"
      ],
      "text/plain": [
       "             Open   High    Low  Close  Pct_Change Classes\n",
       "Date                                                      \n",
       "1980-12-15  27.38  27.38  27.25  27.25   -0.047652   Lower\n",
       "1980-12-16  25.37  25.37  25.25  25.25   -0.073411   Lower\n",
       "1980-12-17  25.87  26.00  25.87  25.87    0.019708   Lower\n",
       "1980-12-18  26.63  26.75  26.63  26.63    0.029378   Lower\n",
       "1980-12-19  28.25  28.38  28.25  28.25    0.060834   Lower"
      ]
     },
     "execution_count": 72,
     "metadata": {},
     "output_type": "execute_result"
    }
   ],
   "source": [
    "small_data.head()"
   ]
  },
  {
   "cell_type": "code",
   "execution_count": null,
   "metadata": {},
   "outputs": [],
   "source": []
  }
 ],
 "metadata": {
  "kernelspec": {
   "display_name": "Python 3",
   "language": "python",
   "name": "python3"
  },
  "language_info": {
   "codemirror_mode": {
    "name": "ipython",
    "version": 3
   },
   "file_extension": ".py",
   "mimetype": "text/x-python",
   "name": "python",
   "nbconvert_exporter": "python",
   "pygments_lexer": "ipython3",
   "version": "3.6.4"
  }
 },
 "nbformat": 4,
 "nbformat_minor": 2
}
