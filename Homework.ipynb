{
 "cells": [
  {
   "cell_type": "markdown",
   "metadata": {},
   "source": [
    "Problem 1 - Superify 1"
   ]
  },
  {
   "cell_type": "code",
   "execution_count": 241,
   "metadata": {},
   "outputs": [],
   "source": [
    "A=['cake','humburger','glass','math','Archimedes']"
   ]
  },
  {
   "cell_type": "code",
   "execution_count": 242,
   "metadata": {},
   "outputs": [
    {
     "name": "stdout",
     "output_type": "stream",
     "text": [
      "supercake\n",
      "super humburger\n",
      "super glass\n",
      "supermath\n",
      "super Archimedes\n"
     ]
    }
   ],
   "source": [
    "for i in A:\n",
    "    if len(i)>4:\n",
    "        print(\"super \"+str(i))\n",
    "    else:\n",
    "        print(\"super\"+str(i))\n",
    "        "
   ]
  },
  {
   "cell_type": "markdown",
   "metadata": {},
   "source": [
    "Problem 2 - Stockplotter 1"
   ]
  },
  {
   "cell_type": "code",
   "execution_count": 243,
   "metadata": {},
   "outputs": [],
   "source": [
    "import quandl\n",
    "import pandas as pd \n",
    "import numpy as np \n",
    "import matplotlib.pyplot as plt "
   ]
  },
  {
   "cell_type": "code",
   "execution_count": 244,
   "metadata": {},
   "outputs": [],
   "source": [
    "stock_list=[\"AAPL\",\"GOOGL\",\"IBM\",\"MSFT\",\"FB\"]"
   ]
  },
  {
   "cell_type": "code",
   "execution_count": 245,
   "metadata": {},
   "outputs": [],
   "source": [
    "data=quandl.get(['WIKI/AAPL','WIKI/GOOGL','WIKI/IBM','WIKI/MSFT','WIKI/FB'], auth_token='S9tzv2wpzoWBs8EhkJDC')"
   ]
  },
  {
   "cell_type": "code",
   "execution_count": 246,
   "metadata": {},
   "outputs": [
    {
     "name": "stdout",
     "output_type": "stream",
     "text": [
      "<class 'pandas.core.frame.DataFrame'>\n",
      "DatetimeIndex: 14156 entries, 1962-01-02 to 2018-03-27\n",
      "Data columns (total 60 columns):\n",
      "WIKI/AAPL - Open            9400 non-null float64\n",
      "WIKI/AAPL - High            9400 non-null float64\n",
      "WIKI/AAPL - Low             9400 non-null float64\n",
      "WIKI/AAPL - Close           9400 non-null float64\n",
      "WIKI/AAPL - Volume          9400 non-null float64\n",
      "WIKI/AAPL - Ex-Dividend     9400 non-null float64\n",
      "WIKI/AAPL - Split Ratio     9400 non-null float64\n",
      "WIKI/AAPL - Adj. Open       9400 non-null float64\n",
      "WIKI/AAPL - Adj. High       9400 non-null float64\n",
      "WIKI/AAPL - Adj. Low        9400 non-null float64\n",
      "WIKI/AAPL - Adj. Close      9400 non-null float64\n",
      "WIKI/AAPL - Adj. Volume     9400 non-null float64\n",
      "WIKI/GOOGL - Open           3424 non-null float64\n",
      "WIKI/GOOGL - High           3424 non-null float64\n",
      "WIKI/GOOGL - Low            3424 non-null float64\n",
      "WIKI/GOOGL - Close          3424 non-null float64\n",
      "WIKI/GOOGL - Volume         3424 non-null float64\n",
      "WIKI/GOOGL - Ex-Dividend    3424 non-null float64\n",
      "WIKI/GOOGL - Split Ratio    3424 non-null float64\n",
      "WIKI/GOOGL - Adj. Open      3424 non-null float64\n",
      "WIKI/GOOGL - Adj. High      3424 non-null float64\n",
      "WIKI/GOOGL - Adj. Low       3424 non-null float64\n",
      "WIKI/GOOGL - Adj. Close     3424 non-null float64\n",
      "WIKI/GOOGL - Adj. Volume    3424 non-null float64\n",
      "WIKI/IBM - Open             14155 non-null float64\n",
      "WIKI/IBM - High             14155 non-null float64\n",
      "WIKI/IBM - Low              14155 non-null float64\n",
      "WIKI/IBM - Close            14155 non-null float64\n",
      "WIKI/IBM - Volume           14155 non-null float64\n",
      "WIKI/IBM - Ex-Dividend      14155 non-null float64\n",
      "WIKI/IBM - Split Ratio      14155 non-null float64\n",
      "WIKI/IBM - Adj. Open        14155 non-null float64\n",
      "WIKI/IBM - Adj. High        14155 non-null float64\n",
      "WIKI/IBM - Adj. Low         14155 non-null float64\n",
      "WIKI/IBM - Adj. Close       14155 non-null float64\n",
      "WIKI/IBM - Adj. Volume      14155 non-null float64\n",
      "WIKI/MSFT - Open            8076 non-null float64\n",
      "WIKI/MSFT - High            8076 non-null float64\n",
      "WIKI/MSFT - Low             8076 non-null float64\n",
      "WIKI/MSFT - Close           8076 non-null float64\n",
      "WIKI/MSFT - Volume          8076 non-null float64\n",
      "WIKI/MSFT - Ex-Dividend     8076 non-null float64\n",
      "WIKI/MSFT - Split Ratio     8076 non-null float64\n",
      "WIKI/MSFT - Adj. Open       8076 non-null float64\n",
      "WIKI/MSFT - Adj. High       8076 non-null float64\n",
      "WIKI/MSFT - Adj. Low        8076 non-null float64\n",
      "WIKI/MSFT - Adj. Close      8076 non-null float64\n",
      "WIKI/MSFT - Adj. Volume     8076 non-null float64\n",
      "WIKI/FB - Open              1472 non-null float64\n",
      "WIKI/FB - High              1472 non-null float64\n",
      "WIKI/FB - Low               1472 non-null float64\n",
      "WIKI/FB - Close             1472 non-null float64\n",
      "WIKI/FB - Volume            1472 non-null float64\n",
      "WIKI/FB - Ex-Dividend       1472 non-null float64\n",
      "WIKI/FB - Split Ratio       1472 non-null float64\n",
      "WIKI/FB - Adj. Open         1472 non-null float64\n",
      "WIKI/FB - Adj. High         1472 non-null float64\n",
      "WIKI/FB - Adj. Low          1472 non-null float64\n",
      "WIKI/FB - Adj. Close        1472 non-null float64\n",
      "WIKI/FB - Adj. Volume       1472 non-null float64\n",
      "dtypes: float64(60)\n",
      "memory usage: 6.6 MB\n"
     ]
    }
   ],
   "source": [
    "data.info()"
   ]
  },
  {
   "cell_type": "code",
   "execution_count": 247,
   "metadata": {},
   "outputs": [],
   "source": [
    "data_open=data.loc[:,['WIKI/AAPL - Open','WIKI/GOOGL - Open','WIKI/IBM - Open','WIKI/MSFT - Open','WIKI/FB - Open']]"
   ]
  },
  {
   "cell_type": "code",
   "execution_count": 248,
   "metadata": {},
   "outputs": [
    {
     "data": {
      "text/html": [
       "<div>\n",
       "<style scoped>\n",
       "    .dataframe tbody tr th:only-of-type {\n",
       "        vertical-align: middle;\n",
       "    }\n",
       "\n",
       "    .dataframe tbody tr th {\n",
       "        vertical-align: top;\n",
       "    }\n",
       "\n",
       "    .dataframe thead th {\n",
       "        text-align: right;\n",
       "    }\n",
       "</style>\n",
       "<table border=\"1\" class=\"dataframe\">\n",
       "  <thead>\n",
       "    <tr style=\"text-align: right;\">\n",
       "      <th></th>\n",
       "      <th>WIKI/AAPL - Open</th>\n",
       "      <th>WIKI/GOOGL - Open</th>\n",
       "      <th>WIKI/IBM - Open</th>\n",
       "      <th>WIKI/MSFT - Open</th>\n",
       "      <th>WIKI/FB - Open</th>\n",
       "    </tr>\n",
       "    <tr>\n",
       "      <th>Date</th>\n",
       "      <th></th>\n",
       "      <th></th>\n",
       "      <th></th>\n",
       "      <th></th>\n",
       "      <th></th>\n",
       "    </tr>\n",
       "  </thead>\n",
       "  <tbody>\n",
       "    <tr>\n",
       "      <th>1962-01-02</th>\n",
       "      <td>NaN</td>\n",
       "      <td>NaN</td>\n",
       "      <td>578.5</td>\n",
       "      <td>NaN</td>\n",
       "      <td>NaN</td>\n",
       "    </tr>\n",
       "    <tr>\n",
       "      <th>1962-01-03</th>\n",
       "      <td>NaN</td>\n",
       "      <td>NaN</td>\n",
       "      <td>572.0</td>\n",
       "      <td>NaN</td>\n",
       "      <td>NaN</td>\n",
       "    </tr>\n",
       "    <tr>\n",
       "      <th>1962-01-04</th>\n",
       "      <td>NaN</td>\n",
       "      <td>NaN</td>\n",
       "      <td>577.0</td>\n",
       "      <td>NaN</td>\n",
       "      <td>NaN</td>\n",
       "    </tr>\n",
       "  </tbody>\n",
       "</table>\n",
       "</div>"
      ],
      "text/plain": [
       "            WIKI/AAPL - Open  WIKI/GOOGL - Open  WIKI/IBM - Open  \\\n",
       "Date                                                               \n",
       "1962-01-02               NaN                NaN            578.5   \n",
       "1962-01-03               NaN                NaN            572.0   \n",
       "1962-01-04               NaN                NaN            577.0   \n",
       "\n",
       "            WIKI/MSFT - Open  WIKI/FB - Open  \n",
       "Date                                          \n",
       "1962-01-02               NaN             NaN  \n",
       "1962-01-03               NaN             NaN  \n",
       "1962-01-04               NaN             NaN  "
      ]
     },
     "execution_count": 248,
     "metadata": {},
     "output_type": "execute_result"
    }
   ],
   "source": [
    "data_open.head(3)"
   ]
  },
  {
   "cell_type": "code",
   "execution_count": 249,
   "metadata": {},
   "outputs": [
    {
     "data": {
      "text/plain": [
       "<matplotlib.axes._subplots.AxesSubplot at 0x11eb19cc0>"
      ]
     },
     "execution_count": 249,
     "metadata": {},
     "output_type": "execute_result"
    },
    {
     "data": {
      "image/png": "[encoded data removed]",
      "text/plain": [
       "<Figure size 432x288 with 1 Axes>"
      ]
     },
     "metadata": {},
     "output_type": "display_data"
    }
   ],
   "source": [
    "data_open.plot()"
   ]
  },
  {
   "cell_type": "markdown",
   "metadata": {},
   "source": [
    "Problem 3 - Stockplotter 2"
   ]
  },
  {
   "cell_type": "code",
   "execution_count": 250,
   "metadata": {},
   "outputs": [
    {
     "data": {
      "text/plain": [
       "<matplotlib.axes._subplots.AxesSubplot at 0x11f3fa470>"
      ]
     },
     "execution_count": 250,
     "metadata": {},
     "output_type": "execute_result"
    },
    {
     "data": {
      "image/png": "[encoded data removed]",
      "text/plain": [
       "<Figure size 432x288 with 1 Axes>"
      ]
     },
     "metadata": {},
     "output_type": "display_data"
    }
   ],
   "source": [
    "quandl.get('WIKI/IBM', auth_token='S9tzv2wpzoWBs8EhkJDC').plot()\n"
   ]
  },
  {
   "cell_type": "code",
   "execution_count": 251,
   "metadata": {},
   "outputs": [],
   "source": [
    "def stock_plot(x):\n",
    "    return quandl.get('WIKI/x', auth_token='S9tzv2wpzoWBs8EhkJDC').plot()"
   ]
  },
  {
   "cell_type": "code",
   "execution_count": 252,
   "metadata": {},
   "outputs": [
    {
     "data": {
      "text/plain": [
       "<matplotlib.axes._subplots.AxesSubplot at 0x11f5055f8>"
      ]
     },
     "execution_count": 252,
     "metadata": {},
     "output_type": "execute_result"
    },
    {
     "data": {
      "image/png": "[encoded data removed]",
      "text/plain": [
       "<Figure size 432x288 with 1 Axes>"
      ]
     },
     "metadata": {},
     "output_type": "display_data"
    }
   ],
   "source": [
    "stock_plot('IBM')"
   ]
  },
  {
   "cell_type": "markdown",
   "metadata": {},
   "source": [
    "Problem 4 - Listpop"
   ]
  },
  {
   "cell_type": "code",
   "execution_count": 253,
   "metadata": {},
   "outputs": [
    {
     "ename": "IndexError",
     "evalue": "pop from empty list",
     "output_type": "error",
     "traceback": [
      "\u001b[0;31m---------------------------------------------------------------------------\u001b[0m",
      "\u001b[0;31mIndexError\u001b[0m                                Traceback (most recent call last)",
      "\u001b[0;32m<ipython-input-253-788521f31eb3>\u001b[0m in \u001b[0;36m<module>\u001b[0;34m()\u001b[0m\n\u001b[1;32m      1\u001b[0m \u001b[0my\u001b[0m\u001b[0;34m=\u001b[0m\u001b[0mlen\u001b[0m\u001b[0;34m(\u001b[0m\u001b[0mstock_list\u001b[0m\u001b[0;34m)\u001b[0m\u001b[0;34m\u001b[0m\u001b[0m\n\u001b[1;32m      2\u001b[0m \u001b[0;32mwhile\u001b[0m \u001b[0my\u001b[0m\u001b[0;34m>\u001b[0m\u001b[0;36m0\u001b[0m\u001b[0;34m:\u001b[0m\u001b[0;34m\u001b[0m\u001b[0m\n\u001b[0;32m----> 3\u001b[0;31m     \u001b[0mstock_list\u001b[0m\u001b[0;34m.\u001b[0m\u001b[0mpop\u001b[0m\u001b[0;34m(\u001b[0m\u001b[0;36m0\u001b[0m\u001b[0;34m)\u001b[0m\u001b[0;34m\u001b[0m\u001b[0m\n\u001b[0m\u001b[1;32m      4\u001b[0m \u001b[0mprint\u001b[0m\u001b[0;34m(\u001b[0m\u001b[0mstock_list\u001b[0m\u001b[0;34m)\u001b[0m\u001b[0;34m\u001b[0m\u001b[0m\n",
      "\u001b[0;31mIndexError\u001b[0m: pop from empty list"
     ]
    }
   ],
   "source": [
    "y=len(stock_list)\n",
    "while y>0:\n",
    "    stock_list.pop(0)\n",
    "print(stock_list)"
   ]
  },
  {
   "cell_type": "markdown",
   "metadata": {},
   "source": [
    "Problem 5 - Numlength 2"
   ]
  },
  {
   "cell_type": "code",
   "execution_count": null,
   "metadata": {},
   "outputs": [],
   "source": [
    "digits=[1,78,15,8,20,188,300]"
   ]
  },
  {
   "cell_type": "code",
   "execution_count": null,
   "metadata": {},
   "outputs": [],
   "source": [
    "one_digit=[]\n",
    "two_digits=[]\n",
    "three_digits=[]\n",
    "for k in digits:\n",
    "    if k<10:\n",
    "        one_digit.append(k)\n",
    "    elif k<100:\n",
    "        two_digits.append(k)\n",
    "    else:\n",
    "        three_digits.append(k)\n",
    "one_digit, two_digits, three_digits"
   ]
  },
  {
   "cell_type": "markdown",
   "metadata": {},
   "source": [
    "Problem 6 - Superify 2"
   ]
  },
  {
   "cell_type": "code",
   "execution_count": null,
   "metadata": {},
   "outputs": [],
   "source": [
    "a=0\n",
    "while a<5:\n",
    "    if len(A[a])>4:\n",
    "        print (\"super \"+str(A[a]))\n",
    "    else:\n",
    "        print (\"super\"+str(A[a]))\n",
    "    a=a+1"
   ]
  },
  {
   "cell_type": "markdown",
   "metadata": {},
   "source": [
    "Problem 7 - Descriptive Analytics 1"
   ]
  },
  {
   "cell_type": "code",
   "execution_count": null,
   "metadata": {},
   "outputs": [],
   "source": [
    "Arm_unemp=quandl.get(\"FRED/SLUEM1524ZSARM\", auth_token='S9tzv2wpzoWBs8EhkJDC')"
   ]
  },
  {
   "cell_type": "code",
   "execution_count": null,
   "metadata": {},
   "outputs": [],
   "source": [
    "Arm_unemp.info()"
   ]
  },
  {
   "cell_type": "code",
   "execution_count": null,
   "metadata": {},
   "outputs": [],
   "source": [
    "Arm_unemp.head(3)"
   ]
  },
  {
   "cell_type": "code",
   "execution_count": null,
   "metadata": {},
   "outputs": [],
   "source": [
    "Arm_unemp.plot(color=\"b\")  # unemployment trend over years"
   ]
  },
  {
   "cell_type": "code",
   "execution_count": null,
   "metadata": {},
   "outputs": [],
   "source": [
    "Arm_unemp['Value_change']=Arm_unemp.Value.pct_change() # unemployment relative change over years\n",
    "Arm_unemp.Value_change.plot()"
   ]
  },
  {
   "cell_type": "code",
   "execution_count": null,
   "metadata": {},
   "outputs": [],
   "source": [
    "#What was the unemployment rate on 2001?"
   ]
  },
  {
   "cell_type": "code",
   "execution_count": null,
   "metadata": {},
   "outputs": [],
   "source": [
    "unemp_2001=Arm_unemp.loc[\"2001\",\"Value\"] # unemployment rate on 2001\n",
    "unemp_2001"
   ]
  },
  {
   "cell_type": "code",
   "execution_count": 254,
   "metadata": {},
   "outputs": [
    {
     "data": {
      "text/html": [
       "<div>\n",
       "<style scoped>\n",
       "    .dataframe tbody tr th:only-of-type {\n",
       "        vertical-align: middle;\n",
       "    }\n",
       "\n",
       "    .dataframe tbody tr th {\n",
       "        vertical-align: top;\n",
       "    }\n",
       "\n",
       "    .dataframe thead th {\n",
       "        text-align: right;\n",
       "    }\n",
       "</style>\n",
       "<table border=\"1\" class=\"dataframe\">\n",
       "  <thead>\n",
       "    <tr style=\"text-align: right;\">\n",
       "      <th></th>\n",
       "      <th>Value</th>\n",
       "      <th>Value_change</th>\n",
       "    </tr>\n",
       "    <tr>\n",
       "      <th>Date</th>\n",
       "      <th></th>\n",
       "      <th></th>\n",
       "    </tr>\n",
       "  </thead>\n",
       "  <tbody>\n",
       "    <tr>\n",
       "      <th>2009-01-01</th>\n",
       "      <td>40.818001</td>\n",
       "      <td>0.188262</td>\n",
       "    </tr>\n",
       "  </tbody>\n",
       "</table>\n",
       "</div>"
      ],
      "text/plain": [
       "                Value  Value_change\n",
       "Date                               \n",
       "2009-01-01  40.818001      0.188262"
      ]
     },
     "execution_count": 254,
     "metadata": {},
     "output_type": "execute_result"
    }
   ],
   "source": [
    "Arm_unemp.loc[Arm_unemp['Value'] == Arm_unemp.Value.max()] #the highest rate of unemployment"
   ]
  },
  {
   "cell_type": "code",
   "execution_count": 132,
   "metadata": {},
   "outputs": [],
   "source": [
    "#What are the mean, mode and median of unemployment rates?"
   ]
  },
  {
   "cell_type": "code",
   "execution_count": 135,
   "metadata": {},
   "outputs": [
    {
     "data": {
      "text/plain": [
       "24.94281485344963"
      ]
     },
     "execution_count": 135,
     "metadata": {},
     "output_type": "execute_result"
    }
   ],
   "source": [
    "Arm_unemp.Value.mean() # mean of unemployment rate"
   ]
  },
  {
   "cell_type": "code",
   "execution_count": 237,
   "metadata": {},
   "outputs": [
    {
     "data": {
      "text/plain": [
       "0    20\n",
       "1    21\n",
       "dtype: int64"
      ]
     },
     "execution_count": 237,
     "metadata": {},
     "output_type": "execute_result"
    }
   ],
   "source": [
    "Arm_unemp.Value.astype(\"int\").mode()"
   ]
  },
  {
   "cell_type": "code",
   "execution_count": 144,
   "metadata": {},
   "outputs": [
    {
     "data": {
      "text/plain": [
       "22.8819999695"
      ]
     },
     "execution_count": 144,
     "metadata": {},
     "output_type": "execute_result"
    }
   ],
   "source": [
    "Arm_unemp.Value.median() # median of unemployment rate"
   ]
  },
  {
   "cell_type": "markdown",
   "metadata": {},
   "source": [
    "Problem 8 - Descriptive Analytics 2"
   ]
  },
  {
   "cell_type": "code",
   "execution_count": 145,
   "metadata": {},
   "outputs": [],
   "source": [
    "Arm_prop=quandl.get(\"ZILLOW/C25499_MLPFAH\", auth_token='S9tzv2wpzoWBs8EhkJDC')"
   ]
  },
  {
   "cell_type": "code",
   "execution_count": 148,
   "metadata": {},
   "outputs": [
    {
     "data": {
      "text/html": [
       "<div>\n",
       "<style scoped>\n",
       "    .dataframe tbody tr th:only-of-type {\n",
       "        vertical-align: middle;\n",
       "    }\n",
       "\n",
       "    .dataframe tbody tr th {\n",
       "        vertical-align: top;\n",
       "    }\n",
       "\n",
       "    .dataframe thead th {\n",
       "        text-align: right;\n",
       "    }\n",
       "</style>\n",
       "<table border=\"1\" class=\"dataframe\">\n",
       "  <thead>\n",
       "    <tr style=\"text-align: right;\">\n",
       "      <th></th>\n",
       "      <th>Value</th>\n",
       "    </tr>\n",
       "    <tr>\n",
       "      <th>Date</th>\n",
       "      <th></th>\n",
       "    </tr>\n",
       "  </thead>\n",
       "  <tbody>\n",
       "    <tr>\n",
       "      <th>2013-04-30</th>\n",
       "      <td>178.571429</td>\n",
       "    </tr>\n",
       "    <tr>\n",
       "      <th>2013-05-31</th>\n",
       "      <td>178.571429</td>\n",
       "    </tr>\n",
       "    <tr>\n",
       "      <th>2013-06-30</th>\n",
       "      <td>185.380865</td>\n",
       "    </tr>\n",
       "    <tr>\n",
       "      <th>2013-07-31</th>\n",
       "      <td>176.747442</td>\n",
       "    </tr>\n",
       "    <tr>\n",
       "      <th>2013-08-31</th>\n",
       "      <td>166.666667</td>\n",
       "    </tr>\n",
       "  </tbody>\n",
       "</table>\n",
       "</div>"
      ],
      "text/plain": [
       "                 Value\n",
       "Date                  \n",
       "2013-04-30  178.571429\n",
       "2013-05-31  178.571429\n",
       "2013-06-30  185.380865\n",
       "2013-07-31  176.747442\n",
       "2013-08-31  166.666667"
      ]
     },
     "execution_count": 148,
     "metadata": {},
     "output_type": "execute_result"
    }
   ],
   "source": [
    "Arm_prop.head()"
   ]
  },
  {
   "cell_type": "code",
   "execution_count": 177,
   "metadata": {},
   "outputs": [
    {
     "data": {
      "text/plain": [
       "13"
      ]
     },
     "execution_count": 177,
     "metadata": {},
     "output_type": "execute_result"
    }
   ],
   "source": [
    "cond_1=Arm_prop.Value>160 #how many times the median price has been in the open range (160,170)\n",
    "cond_2=Arm_prop.Value<170\n",
    "Arm_prop.Value[ cond_1 & cond_2].count()"
   ]
  },
  {
   "cell_type": "code",
   "execution_count": 190,
   "metadata": {},
   "outputs": [
    {
     "data": {
      "image/png": "[encoded data removed]",
      "text/plain": [
       "<Figure size 432x288 with 1 Axes>"
      ]
     },
     "metadata": {},
     "output_type": "display_data"
    }
   ],
   "source": [
    "Arm_prop.hist(bins=15,color='r') #plot histogram-???\n",
    "plt.title('Property Price in Armenia')\n",
    "plt.xlabel('Median Prices')\n",
    "plt.ylabel(\"Date\")\n",
    "plt.show()"
   ]
  },
  {
   "cell_type": "code",
   "execution_count": 203,
   "metadata": {},
   "outputs": [],
   "source": [
    "def classifier(n): #Define a function that will return High, Medium or Low when the price>=170, 170>price>160, 160>=price respectively\n",
    "    if n>=170:\n",
    "        output=\"High\"\n",
    "    elif n>160:\n",
    "        output=\"Medium\"\n",
    "    else:\n",
    "        output=\"Low\"\n",
    "    return output"
   ]
  },
  {
   "cell_type": "code",
   "execution_count": 204,
   "metadata": {},
   "outputs": [
    {
     "data": {
      "text/plain": [
       "Date\n",
       "2013-04-30      High\n",
       "2013-05-31      High\n",
       "2013-06-30      High\n",
       "2013-07-31      High\n",
       "2013-08-31    Medium\n",
       "2013-09-30    Medium\n",
       "2013-10-31    Medium\n",
       "2013-11-30    Medium\n",
       "2013-12-31    Medium\n",
       "2014-01-31    Medium\n",
       "2014-02-28    Medium\n",
       "2014-03-31      High\n",
       "2014-04-30      High\n",
       "2014-05-31    Medium\n",
       "2014-06-30       Low\n",
       "2014-07-31       Low\n",
       "2014-08-31       Low\n",
       "2014-09-30       Low\n",
       "2014-10-31       Low\n",
       "2014-11-30       Low\n",
       "2014-12-31       Low\n",
       "2015-01-31       Low\n",
       "2015-02-28       Low\n",
       "2015-03-31       Low\n",
       "2015-04-30       Low\n",
       "2015-05-31       Low\n",
       "2015-06-30       Low\n",
       "2015-07-31       Low\n",
       "2015-08-31       Low\n",
       "2015-09-30       Low\n",
       "2015-10-31    Medium\n",
       "2015-11-30    Medium\n",
       "2015-12-31       Low\n",
       "2016-01-31       Low\n",
       "2016-02-29       Low\n",
       "2016-03-31       Low\n",
       "2016-04-30       Low\n",
       "2016-05-31       Low\n",
       "2016-06-30       Low\n",
       "2016-07-31       Low\n",
       "2016-08-31       Low\n",
       "2016-09-30    Medium\n",
       "2016-10-31      High\n",
       "2016-11-30    Medium\n",
       "2016-12-31    Medium\n",
       "2017-01-31       Low\n",
       "2017-02-28       Low\n",
       "2017-03-31       Low\n",
       "2017-04-30       Low\n",
       "2017-05-31       Low\n",
       "2017-06-30       Low\n",
       "2017-07-31       Low\n",
       "2017-08-31       Low\n",
       "2017-09-30       Low\n",
       "2017-10-31       Low\n",
       "2017-11-30       Low\n",
       "2017-12-31       Low\n",
       "2018-01-31       Low\n",
       "2018-02-28       Low\n",
       "2018-03-31       Low\n",
       "Name: Value, dtype: object"
      ]
     },
     "execution_count": 204,
     "metadata": {},
     "output_type": "execute_result"
    }
   ],
   "source": [
    "Arm_prop.Value.apply(classifier)"
   ]
  },
  {
   "cell_type": "code",
   "execution_count": 216,
   "metadata": {},
   "outputs": [],
   "source": [
    "# add new column of price classifications with apply function\n",
    "Arm_prop['Price_classification']=Arm_prop.Value.apply(classifier) "
   ]
  },
  {
   "cell_type": "code",
   "execution_count": 217,
   "metadata": {},
   "outputs": [
    {
     "data": {
      "text/html": [
       "<div>\n",
       "<style scoped>\n",
       "    .dataframe tbody tr th:only-of-type {\n",
       "        vertical-align: middle;\n",
       "    }\n",
       "\n",
       "    .dataframe tbody tr th {\n",
       "        vertical-align: top;\n",
       "    }\n",
       "\n",
       "    .dataframe thead th {\n",
       "        text-align: right;\n",
       "    }\n",
       "</style>\n",
       "<table border=\"1\" class=\"dataframe\">\n",
       "  <thead>\n",
       "    <tr style=\"text-align: right;\">\n",
       "      <th></th>\n",
       "      <th>Value</th>\n",
       "      <th>Price_classification</th>\n",
       "    </tr>\n",
       "    <tr>\n",
       "      <th>Date</th>\n",
       "      <th></th>\n",
       "      <th></th>\n",
       "    </tr>\n",
       "  </thead>\n",
       "  <tbody>\n",
       "    <tr>\n",
       "      <th>2013-04-30</th>\n",
       "      <td>178.571429</td>\n",
       "      <td>High</td>\n",
       "    </tr>\n",
       "    <tr>\n",
       "      <th>2013-05-31</th>\n",
       "      <td>178.571429</td>\n",
       "      <td>High</td>\n",
       "    </tr>\n",
       "    <tr>\n",
       "      <th>2013-06-30</th>\n",
       "      <td>185.380865</td>\n",
       "      <td>High</td>\n",
       "    </tr>\n",
       "    <tr>\n",
       "      <th>2013-07-31</th>\n",
       "      <td>176.747442</td>\n",
       "      <td>High</td>\n",
       "    </tr>\n",
       "    <tr>\n",
       "      <th>2013-08-31</th>\n",
       "      <td>166.666667</td>\n",
       "      <td>Medium</td>\n",
       "    </tr>\n",
       "  </tbody>\n",
       "</table>\n",
       "</div>"
      ],
      "text/plain": [
       "                 Value Price_classification\n",
       "Date                                       \n",
       "2013-04-30  178.571429                 High\n",
       "2013-05-31  178.571429                 High\n",
       "2013-06-30  185.380865                 High\n",
       "2013-07-31  176.747442                 High\n",
       "2013-08-31  166.666667               Medium"
      ]
     },
     "execution_count": 217,
     "metadata": {},
     "output_type": "execute_result"
    }
   ],
   "source": [
    "Arm_prop.head()"
   ]
  },
  {
   "cell_type": "code",
   "execution_count": 218,
   "metadata": {},
   "outputs": [],
   "source": [
    "# standard deviation of prices in each class by pivot table\n",
    "Arm_prop_pivot=pd.pivot_table(data=Arm_prop,index=['Price_classification'],values='Value',aggfunc=np.std)"
   ]
  },
  {
   "cell_type": "code",
   "execution_count": 215,
   "metadata": {},
   "outputs": [
    {
     "data": {
      "text/html": [
       "<div>\n",
       "<style scoped>\n",
       "    .dataframe tbody tr th:only-of-type {\n",
       "        vertical-align: middle;\n",
       "    }\n",
       "\n",
       "    .dataframe tbody tr th {\n",
       "        vertical-align: top;\n",
       "    }\n",
       "\n",
       "    .dataframe thead th {\n",
       "        text-align: right;\n",
       "    }\n",
       "</style>\n",
       "<table border=\"1\" class=\"dataframe\">\n",
       "  <thead>\n",
       "    <tr style=\"text-align: right;\">\n",
       "      <th></th>\n",
       "      <th>Value</th>\n",
       "    </tr>\n",
       "    <tr>\n",
       "      <th>Price_classification</th>\n",
       "      <th></th>\n",
       "    </tr>\n",
       "  </thead>\n",
       "  <tbody>\n",
       "    <tr>\n",
       "      <th>High</th>\n",
       "      <td>4.960363</td>\n",
       "    </tr>\n",
       "    <tr>\n",
       "      <th>Low</th>\n",
       "      <td>4.289230</td>\n",
       "    </tr>\n",
       "    <tr>\n",
       "      <th>Medium</th>\n",
       "      <td>2.284924</td>\n",
       "    </tr>\n",
       "  </tbody>\n",
       "</table>\n",
       "</div>"
      ],
      "text/plain": [
       "                         Value\n",
       "Price_classification          \n",
       "High                  4.960363\n",
       "Low                   4.289230\n",
       "Medium                2.284924"
      ]
     },
     "execution_count": 215,
     "metadata": {},
     "output_type": "execute_result"
    }
   ],
   "source": [
    "Arm_prop_pivot "
   ]
  },
  {
   "cell_type": "code",
   "execution_count": null,
   "metadata": {},
   "outputs": [],
   "source": []
  }
 ],
 "metadata": {
  "kernelspec": {
   "display_name": "Python 3",
   "language": "python",
   "name": "python3"
  },
  "language_info": {
   "codemirror_mode": {
    "name": "ipython",
    "version": 3
   },
   "file_extension": ".py",
   "mimetype": "text/x-python",
   "name": "python",
   "nbconvert_exporter": "python",
   "pygments_lexer": "ipython3",
   "version": "3.6.5"
  }
 },
 "nbformat": 4,
 "nbformat_minor": 2
}
