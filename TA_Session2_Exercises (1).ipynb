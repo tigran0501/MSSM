{
 "cells": [
  {
   "cell_type": "code",
   "execution_count": 1,
   "metadata": {
    "collapsed": true
   },
   "outputs": [],
   "source": [
    "##EXERCISE 1\n",
    "\n",
    "## Write down a list of 3 fruits (except for banana)\n",
    "## Add banana to the list\n",
    "## Put them in an alphabetical order\n",
    "## See what is the 2nd letter of the 2nd fruit\n",
    "## Find which element banana is in the sequence\n",
    "## Make a sentence for each fruit indicating that it is currenlty sold out"
   ]
  },
  {
   "cell_type": "code",
   "execution_count": 2,
   "metadata": {},
   "outputs": [
    {
     "name": "stdout",
     "output_type": "stream",
     "text": [
      "['apple', 'strawberry', 'pear']\n"
     ]
    }
   ],
   "source": [
    "fruits = [\"apple\",\"strawberry\",\"pear\"]\n",
    "print(fruits)"
   ]
  },
  {
   "cell_type": "code",
   "execution_count": 4,
   "metadata": {},
   "outputs": [
    {
     "name": "stdout",
     "output_type": "stream",
     "text": [
      "['apple', 'strawberry', 'pear', 'banana']\n"
     ]
    }
   ],
   "source": [
    "fruits.append(\"banana\")\n",
    "print(fruits)"
   ]
  },
  {
   "cell_type": "code",
   "execution_count": 5,
   "metadata": {},
   "outputs": [
    {
     "name": "stdout",
     "output_type": "stream",
     "text": [
      "['apple', 'banana', 'pear', 'strawberry']\n"
     ]
    }
   ],
   "source": [
    "fruits.sort()\n",
    "print(fruits)"
   ]
  },
  {
   "cell_type": "code",
   "execution_count": 7,
   "metadata": {},
   "outputs": [
    {
     "data": {
      "text/plain": [
       "'a'"
      ]
     },
     "execution_count": 7,
     "metadata": {},
     "output_type": "execute_result"
    }
   ],
   "source": [
    "fruits[1][1]"
   ]
  },
  {
   "cell_type": "code",
   "execution_count": 9,
   "metadata": {},
   "outputs": [
    {
     "name": "stdout",
     "output_type": "stream",
     "text": [
      "apple is sold out\n",
      "banana is sold out\n",
      "pear is sold out\n",
      "strawberry is sold out\n"
     ]
    }
   ],
   "source": [
    "for i in fruits:\n",
    "    print(i + \" is sold out\")"
   ]
  },
  {
   "cell_type": "code",
   "execution_count": null,
   "metadata": {},
   "outputs": [],
   "source": []
  },
  {
   "cell_type": "code",
   "execution_count": 2,
   "metadata": {
    "collapsed": true
   },
   "outputs": [],
   "source": [
    "## EXERCISE 2\n",
    "\n",
    "## Write a Python program to generate and print a list of the first 5 and last 5 elements, where the values are square of \n",
    "## the numbers between 1 and 30 (both included)."
   ]
  },
  {
   "cell_type": "code",
   "execution_count": 11,
   "metadata": {},
   "outputs": [
    {
     "name": "stdout",
     "output_type": "stream",
     "text": [
      "[1, 4, 9, 16, 25]\n",
      "[676, 729, 784, 841, 900]\n"
     ]
    }
   ],
   "source": [
    "listi =[]\n",
    "\n",
    "for i in range(1,31):\n",
    "    listi.append(i**2)\n",
    "print(listi[:5])\n",
    "print(listi[-5:])"
   ]
  },
  {
   "cell_type": "code",
   "execution_count": 3,
   "metadata": {
    "collapsed": true
   },
   "outputs": [],
   "source": [
    "## EXERCISE 3\n",
    "## Write a Python program to get the third side of right angled triangle from two given sides."
   ]
  },
  {
   "cell_type": "code",
   "execution_count": 29,
   "metadata": {},
   "outputs": [],
   "source": [
    "def pythagoras(a,b,c):\n",
    "    if a==str(\"x\"):\n",
    "        return (\"a =\" + str(int(((c**2) - (b**2))**0.5)))\n",
    "    elif b==str(\"x\"):\n",
    "        return (\"b=\" + str(int(((c**2)-(a**2))**0.5)))\n",
    "    elif c==str(\"x\"):\n",
    "        return (\"c=\"+ str(int(((a**2)+(b**2))**0.5)))\n",
    "    else:\n",
    "        return (\"You have the numbers\")\n"
   ]
  },
  {
   "cell_type": "code",
   "execution_count": 30,
   "metadata": {},
   "outputs": [
    {
     "data": {
      "text/plain": [
       "'c=3'"
      ]
     },
     "execution_count": 30,
     "metadata": {},
     "output_type": "execute_result"
    }
   ],
   "source": [
    "pythagoras(2,3,\"x\")"
   ]
  },
  {
   "cell_type": "code",
   "execution_count": 4,
   "metadata": {
    "collapsed": true
   },
   "outputs": [],
   "source": [
    "## EXERCISE 4\n",
    "## Write a program which will find all numbers between 1500 and 1700 (both included) \n",
    "## that do not end with 0, are divisible by 5 and not divisible by 7"
   ]
  },
  {
   "cell_type": "code",
   "execution_count": 38,
   "metadata": {},
   "outputs": [
    {
     "name": "stdout",
     "output_type": "stream",
     "text": [
      "[1515, 1525, 1535, 1545, 1555, 1565, 1585, 1595, 1605, 1615, 1625, 1635, 1655, 1665, 1675, 1685, 1695]\n"
     ]
    }
   ],
   "source": [
    "list2=[]\n",
    "\n",
    "for i in range(1500,1701):\n",
    "    if i%10!=0 and i%5==0 and i%7!=0:\n",
    "        list2.append(i)\n",
    "print(list2)"
   ]
  },
  {
   "cell_type": "code",
   "execution_count": 5,
   "metadata": {
    "collapsed": true
   },
   "outputs": [],
   "source": [
    "## EXERCISE 5\n",
    "## Print all non negative numbers less than 5 using while loop"
   ]
  },
  {
   "cell_type": "code",
   "execution_count": 39,
   "metadata": {},
   "outputs": [
    {
     "name": "stdout",
     "output_type": "stream",
     "text": [
      "0\n",
      "1\n",
      "2\n",
      "3\n",
      "4\n"
     ]
    }
   ],
   "source": [
    "i=0\n",
    "\n",
    "while i<5:\n",
    "    print(i)\n",
    "    i = i +1"
   ]
  },
  {
   "cell_type": "code",
   "execution_count": 7,
   "metadata": {
    "collapsed": true
   },
   "outputs": [],
   "source": [
    "## EXERCISE 6\n",
    "## Write a Python program to create the multiplication table (from 1 to 10) of a number.\n"
   ]
  },
  {
   "cell_type": "code",
   "execution_count": 41,
   "metadata": {},
   "outputs": [
    {
     "name": "stdout",
     "output_type": "stream",
     "text": [
      "8 x 1 = 8\n",
      "8 x 2 = 16\n",
      "8 x 3 = 24\n",
      "8 x 4 = 32\n",
      "8 x 5 = 40\n",
      "8 x 6 = 48\n",
      "8 x 7 = 56\n",
      "8 x 8 = 64\n",
      "8 x 9 = 72\n",
      "8 x 10 = 80\n"
     ]
    }
   ],
   "source": [
    "n=8\n",
    "\n",
    "for i in range(1,11):\n",
    "    print(n,\"x\",i,\"=\",i*n)"
   ]
  },
  {
   "cell_type": "code",
   "execution_count": 8,
   "metadata": {
    "collapsed": true
   },
   "outputs": [],
   "source": [
    "## EXERCISE 7\n",
    "## Write a program to add natural numbers upto 10"
   ]
  },
  {
   "cell_type": "code",
   "execution_count": 48,
   "metadata": {},
   "outputs": [
    {
     "name": "stdout",
     "output_type": "stream",
     "text": [
      "The sum is 1\n",
      "The sum is 3\n",
      "The sum is 6\n",
      "The sum is 10\n",
      "The sum is 15\n",
      "The sum is 21\n",
      "The sum is 28\n",
      "The sum is 36\n",
      "The sum is 45\n",
      "The sum is 55\n"
     ]
    }
   ],
   "source": [
    "i = 1\n",
    "sum=0\n",
    "n=10\n",
    "\n",
    "while i<=n:\n",
    "        sum = sum + i\n",
    "        i = i+1\n",
    "        print(\"The sum is \" + str(sum))"
   ]
  },
  {
   "cell_type": "code",
   "execution_count": 9,
   "metadata": {
    "collapsed": true
   },
   "outputs": [],
   "source": [
    "## EXERCISE 8\n",
    "## Write a program to find the factorial of 7 (using while loop)"
   ]
  },
  {
   "cell_type": "code",
   "execution_count": 50,
   "metadata": {},
   "outputs": [
    {
     "name": "stdout",
     "output_type": "stream",
     "text": [
      "the factorial is 5040\n"
     ]
    }
   ],
   "source": [
    "i = 1\n",
    "multiply=1\n",
    "n=7\n",
    "while i<=n:\n",
    "    multiply = multiply*i\n",
    "    i=i+1\n",
    "print(\"the factorial is \" + str(multiply))\n"
   ]
  },
  {
   "cell_type": "code",
   "execution_count": 10,
   "metadata": {
    "collapsed": true
   },
   "outputs": [],
   "source": [
    "## EXERCISE 9\n",
    "## Print the statement \"It's past\" when it is past, and \"It's present\" when it is present - based on your age"
   ]
  },
  {
   "cell_type": "code",
   "execution_count": 88,
   "metadata": {},
   "outputs": [
    {
     "name": "stdout",
     "output_type": "stream",
     "text": [
      "1 Its past\n",
      "2 Its past\n",
      "3 Its past\n",
      "4 Its past\n",
      "5 Its past\n",
      "6 Its past\n",
      "7 Its past\n",
      "8 Its past\n",
      "9 Its past\n",
      "10 Its past\n",
      "11 Its past\n",
      "12 Its past\n",
      "13 Its past\n",
      "14 Its past\n",
      "15 Its past\n",
      "16 Its past\n",
      "17 Its past\n",
      "18 Its past\n",
      "19 Its past\n",
      "20 Its past\n",
      "21 its present\n"
     ]
    }
   ],
   "source": [
    "i=1\n",
    "age=21\n",
    "while i<age:\n",
    "    i=i+1\n",
    "    print(str(i-1)+\" \" + \"Its past\")\n",
    "else:\n",
    "    print (str(age)+\" \"+\"its present\")\n"
   ]
  },
  {
   "cell_type": "code",
   "execution_count": null,
   "metadata": {},
   "outputs": [],
   "source": []
  },
  {
   "cell_type": "code",
   "execution_count": 12,
   "metadata": {
    "collapsed": true
   },
   "outputs": [],
   "source": [
    "## EXERCISE 10\n",
    "##Define a converting function that will convert EUR to AMD - when we input \" X EUR\" it will give the output converted \n",
    "## amount and AMD\n"
   ]
  },
  {
   "cell_type": "code",
   "execution_count": 96,
   "metadata": {},
   "outputs": [],
   "source": [
    "def converter(eur):\n",
    "    print(str((int(eur.split(\" \")[0])*585))+ \" AMD\")\n"
   ]
  },
  {
   "cell_type": "code",
   "execution_count": 97,
   "metadata": {},
   "outputs": [
    {
     "name": "stdout",
     "output_type": "stream",
     "text": [
      "1170000 AMD\n"
     ]
    }
   ],
   "source": [
    "converter(\"2000 eur\")"
   ]
  },
  {
   "cell_type": "code",
   "execution_count": 13,
   "metadata": {
    "collapsed": true
   },
   "outputs": [],
   "source": [
    "## EXERCISE 11\n",
    "## ODA/ARM_LP from QUANDL"
   ]
  },
  {
   "cell_type": "code",
   "execution_count": 98,
   "metadata": {},
   "outputs": [],
   "source": [
    "import pandas as pd\n",
    "import numpy as np\n",
    "import matplotlib.pyplot as plt\n",
    "import quandl"
   ]
  },
  {
   "cell_type": "code",
   "execution_count": 100,
   "metadata": {},
   "outputs": [],
   "source": [
    "data = quandl.get(\"ODA/ARM_LP\",auth_token=\"CSpzhxRAuzQWywz_1s4s\")"
   ]
  },
  {
   "cell_type": "code",
   "execution_count": 101,
   "metadata": {},
   "outputs": [
    {
     "data": {
      "text/html": [
       "<div>\n",
       "<style scoped>\n",
       "    .dataframe tbody tr th:only-of-type {\n",
       "        vertical-align: middle;\n",
       "    }\n",
       "\n",
       "    .dataframe tbody tr th {\n",
       "        vertical-align: top;\n",
       "    }\n",
       "\n",
       "    .dataframe thead th {\n",
       "        text-align: right;\n",
       "    }\n",
       "</style>\n",
       "<table border=\"1\" class=\"dataframe\">\n",
       "  <thead>\n",
       "    <tr style=\"text-align: right;\">\n",
       "      <th></th>\n",
       "      <th>Value</th>\n",
       "    </tr>\n",
       "    <tr>\n",
       "      <th>Date</th>\n",
       "      <th></th>\n",
       "    </tr>\n",
       "  </thead>\n",
       "  <tbody>\n",
       "    <tr>\n",
       "      <th>1992-12-31</th>\n",
       "      <td>3.45</td>\n",
       "    </tr>\n",
       "    <tr>\n",
       "      <th>1993-12-31</th>\n",
       "      <td>3.37</td>\n",
       "    </tr>\n",
       "    <tr>\n",
       "      <th>1994-12-31</th>\n",
       "      <td>3.29</td>\n",
       "    </tr>\n",
       "    <tr>\n",
       "      <th>1995-12-31</th>\n",
       "      <td>3.22</td>\n",
       "    </tr>\n",
       "    <tr>\n",
       "      <th>1996-12-31</th>\n",
       "      <td>3.17</td>\n",
       "    </tr>\n",
       "  </tbody>\n",
       "</table>\n",
       "</div>"
      ],
      "text/plain": [
       "            Value\n",
       "Date             \n",
       "1992-12-31   3.45\n",
       "1993-12-31   3.37\n",
       "1994-12-31   3.29\n",
       "1995-12-31   3.22\n",
       "1996-12-31   3.17"
      ]
     },
     "execution_count": 101,
     "metadata": {},
     "output_type": "execute_result"
    }
   ],
   "source": [
    "data.head()"
   ]
  },
  {
   "cell_type": "code",
   "execution_count": 102,
   "metadata": {},
   "outputs": [
    {
     "data": {
      "text/html": [
       "<div>\n",
       "<style scoped>\n",
       "    .dataframe tbody tr th:only-of-type {\n",
       "        vertical-align: middle;\n",
       "    }\n",
       "\n",
       "    .dataframe tbody tr th {\n",
       "        vertical-align: top;\n",
       "    }\n",
       "\n",
       "    .dataframe thead th {\n",
       "        text-align: right;\n",
       "    }\n",
       "</style>\n",
       "<table border=\"1\" class=\"dataframe\">\n",
       "  <thead>\n",
       "    <tr style=\"text-align: right;\">\n",
       "      <th></th>\n",
       "      <th>Value</th>\n",
       "    </tr>\n",
       "    <tr>\n",
       "      <th>Date</th>\n",
       "      <th></th>\n",
       "    </tr>\n",
       "  </thead>\n",
       "  <tbody>\n",
       "    <tr>\n",
       "      <th>2018-12-31</th>\n",
       "      <td>2.991</td>\n",
       "    </tr>\n",
       "    <tr>\n",
       "      <th>2019-12-31</th>\n",
       "      <td>2.991</td>\n",
       "    </tr>\n",
       "    <tr>\n",
       "      <th>2020-12-31</th>\n",
       "      <td>2.992</td>\n",
       "    </tr>\n",
       "    <tr>\n",
       "      <th>2021-12-31</th>\n",
       "      <td>2.992</td>\n",
       "    </tr>\n",
       "    <tr>\n",
       "      <th>2022-12-31</th>\n",
       "      <td>2.992</td>\n",
       "    </tr>\n",
       "  </tbody>\n",
       "</table>\n",
       "</div>"
      ],
      "text/plain": [
       "            Value\n",
       "Date             \n",
       "2018-12-31  2.991\n",
       "2019-12-31  2.991\n",
       "2020-12-31  2.992\n",
       "2021-12-31  2.992\n",
       "2022-12-31  2.992"
      ]
     },
     "execution_count": 102,
     "metadata": {},
     "output_type": "execute_result"
    }
   ],
   "source": [
    "data.tail()"
   ]
  },
  {
   "cell_type": "code",
   "execution_count": 103,
   "metadata": {},
   "outputs": [
    {
     "name": "stdout",
     "output_type": "stream",
     "text": [
      "<class 'pandas.core.frame.DataFrame'>\n",
      "DatetimeIndex: 31 entries, 1992-12-31 to 2022-12-31\n",
      "Data columns (total 1 columns):\n",
      "Value    31 non-null float64\n",
      "dtypes: float64(1)\n",
      "memory usage: 496.0 bytes\n"
     ]
    }
   ],
   "source": [
    "data.info()"
   ]
  },
  {
   "cell_type": "code",
   "execution_count": 104,
   "metadata": {},
   "outputs": [
    {
     "data": {
      "text/html": [
       "<div>\n",
       "<style scoped>\n",
       "    .dataframe tbody tr th:only-of-type {\n",
       "        vertical-align: middle;\n",
       "    }\n",
       "\n",
       "    .dataframe tbody tr th {\n",
       "        vertical-align: top;\n",
       "    }\n",
       "\n",
       "    .dataframe thead th {\n",
       "        text-align: right;\n",
       "    }\n",
       "</style>\n",
       "<table border=\"1\" class=\"dataframe\">\n",
       "  <thead>\n",
       "    <tr style=\"text-align: right;\">\n",
       "      <th></th>\n",
       "      <th>Value</th>\n",
       "    </tr>\n",
       "  </thead>\n",
       "  <tbody>\n",
       "    <tr>\n",
       "      <th>count</th>\n",
       "      <td>31.000000</td>\n",
       "    </tr>\n",
       "    <tr>\n",
       "      <th>mean</th>\n",
       "      <td>3.059645</td>\n",
       "    </tr>\n",
       "    <tr>\n",
       "      <th>std</th>\n",
       "      <td>0.122629</td>\n",
       "    </tr>\n",
       "    <tr>\n",
       "      <th>min</th>\n",
       "      <td>2.966000</td>\n",
       "    </tr>\n",
       "    <tr>\n",
       "      <th>25%</th>\n",
       "      <td>2.990000</td>\n",
       "    </tr>\n",
       "    <tr>\n",
       "      <th>50%</th>\n",
       "      <td>2.992000</td>\n",
       "    </tr>\n",
       "    <tr>\n",
       "      <th>75%</th>\n",
       "      <td>3.085000</td>\n",
       "    </tr>\n",
       "    <tr>\n",
       "      <th>max</th>\n",
       "      <td>3.450000</td>\n",
       "    </tr>\n",
       "  </tbody>\n",
       "</table>\n",
       "</div>"
      ],
      "text/plain": [
       "           Value\n",
       "count  31.000000\n",
       "mean    3.059645\n",
       "std     0.122629\n",
       "min     2.966000\n",
       "25%     2.990000\n",
       "50%     2.992000\n",
       "75%     3.085000\n",
       "max     3.450000"
      ]
     },
     "execution_count": 104,
     "metadata": {},
     "output_type": "execute_result"
    }
   ],
   "source": [
    "data.describe()"
   ]
  },
  {
   "cell_type": "code",
   "execution_count": 105,
   "metadata": {},
   "outputs": [
    {
     "data": {
      "text/plain": [
       "Value    2.992\n",
       "dtype: float64"
      ]
     },
     "execution_count": 105,
     "metadata": {},
     "output_type": "execute_result"
    }
   ],
   "source": [
    "data.median()"
   ]
  },
  {
   "cell_type": "code",
   "execution_count": 111,
   "metadata": {},
   "outputs": [
    {
     "data": {
      "text/plain": [
       "[<matplotlib.lines.Line2D at 0x23cecc56e48>]"
      ]
     },
     "execution_count": 111,
     "metadata": {},
     "output_type": "execute_result"
    },
    {
     "data": {
      "image/png": "[encoded data removed]",
      "text/plain": [
       "<matplotlib.figure.Figure at 0x23cecbebd30>"
      ]
     },
     "metadata": {},
     "output_type": "display_data"
    }
   ],
   "source": [
    "plt.plot(data,\"go\")"
   ]
  },
  {
   "cell_type": "code",
   "execution_count": 112,
   "metadata": {},
   "outputs": [
    {
     "data": {
      "text/plain": [
       "Date\n",
       "2002-12-31    3.050\n",
       "2003-12-31    3.040\n",
       "2004-12-31    3.030\n",
       "2005-12-31    3.010\n",
       "2006-12-31    3.000\n",
       "2007-12-31    2.990\n",
       "2008-12-31    2.980\n",
       "2009-12-31    2.970\n",
       "2010-12-31    2.966\n",
       "2011-12-31    2.968\n",
       "Name: Value, dtype: float64"
      ]
     },
     "execution_count": 112,
     "metadata": {},
     "output_type": "execute_result"
    }
   ],
   "source": [
    "data.iloc[10:20,0]"
   ]
  },
  {
   "cell_type": "code",
   "execution_count": 113,
   "metadata": {},
   "outputs": [
    {
     "name": "stdout",
     "output_type": "stream",
     "text": [
      "            Value  Percentage\n",
      "Date                         \n",
      "1992-12-31  3.450  100.000000\n",
      "1993-12-31  3.370   97.681159\n",
      "1994-12-31  3.290   95.362319\n",
      "1995-12-31  3.220   93.333333\n",
      "1996-12-31  3.170   91.884058\n",
      "1997-12-31  3.140   91.014493\n",
      "1998-12-31  3.110   90.144928\n",
      "1999-12-31  3.090   89.565217\n",
      "2000-12-31  3.080   89.275362\n",
      "2001-12-31  3.060   88.695652\n",
      "2002-12-31  3.050   88.405797\n",
      "2003-12-31  3.040   88.115942\n",
      "2004-12-31  3.030   87.826087\n",
      "2005-12-31  3.010   87.246377\n",
      "2006-12-31  3.000   86.956522\n",
      "2007-12-31  2.990   86.666667\n",
      "2008-12-31  2.980   86.376812\n",
      "2009-12-31  2.970   86.086957\n",
      "2010-12-31  2.966   85.971014\n",
      "2011-12-31  2.968   86.028986\n",
      "2012-12-31  2.970   86.086957\n",
      "2013-12-31  2.980   86.376812\n",
      "2014-12-31  2.985   86.521739\n",
      "2015-12-31  2.990   86.666667\n",
      "2016-12-31  2.991   86.695652\n",
      "2017-12-31  2.991   86.695652\n",
      "2018-12-31  2.991   86.695652\n",
      "2019-12-31  2.991   86.695652\n",
      "2020-12-31  2.992   86.724638\n",
      "2021-12-31  2.992   86.724638\n",
      "2022-12-31  2.992   86.724638\n"
     ]
    }
   ],
   "source": [
    "data[\"Percentage\"] = data[\"Value\"]/data[\"Value\"].max()*100\n",
    "print(data)"
   ]
  },
  {
   "cell_type": "code",
   "execution_count": null,
   "metadata": {},
   "outputs": [],
   "source": []
  }
 ],
 "metadata": {
  "kernelspec": {
   "display_name": "Python 3",
   "language": "python",
   "name": "python3"
  },
  "language_info": {
   "codemirror_mode": {
    "name": "ipython",
    "version": 3
   },
   "file_extension": ".py",
   "mimetype": "text/x-python",
   "name": "python",
   "nbconvert_exporter": "python",
   "pygments_lexer": "ipython3",
   "version": "3.6.4"
  }
 },
 "nbformat": 4,
 "nbformat_minor": 2
}
