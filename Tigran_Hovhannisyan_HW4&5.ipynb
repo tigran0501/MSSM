{
 "cells": [
  {
   "cell_type": "code",
   "execution_count": 3,
   "metadata": {},
   "outputs": [],
   "source": [
    "import quandl \n",
    "import pandas as pd \n",
    "import numpy as np \n",
    "import matplotlib.pyplot as plt \n",
    "import seaborn as sns"
   ]
  },
  {
   "cell_type": "code",
   "execution_count": 4,
   "metadata": {},
   "outputs": [],
   "source": [
    "#Problem 1\n",
    "\n",
    "list = [\"man\",\"woman\",\"cool\",\"grade\",\"student\"]"
   ]
  },
  {
   "cell_type": "code",
   "execution_count": 5,
   "metadata": {},
   "outputs": [
    {
     "name": "stdout",
     "output_type": "stream",
     "text": [
      "superman\n",
      "super woman\n",
      "supercool\n",
      "super grade\n",
      "super student\n"
     ]
    }
   ],
   "source": [
    "for i in list:\n",
    "    if len(i)>4:\n",
    "        print(\"super \" + i)\n",
    "    else:\n",
    "        print(\"super\" + i)"
   ]
  },
  {
   "cell_type": "code",
   "execution_count": 6,
   "metadata": {},
   "outputs": [],
   "source": [
    "#Problem 2\n",
    "\n",
    "stocks = quandl.get([\"WIKI/GOOGL\",\"WIKI/AMZN\",\"WIKI/IBM\",\"WIKI/MSFT\",\"WIKI/AAPL\"],auth_token=\"CSpzhxRAuzQWywz_1s4s\")\n",
    "stocks_clean=stocks.dropna()"
   ]
  },
  {
   "cell_type": "code",
   "execution_count": 7,
   "metadata": {},
   "outputs": [
    {
     "data": {
      "text/html": [
       "<div>\n",
       "<style scoped>\n",
       "    .dataframe tbody tr th:only-of-type {\n",
       "        vertical-align: middle;\n",
       "    }\n",
       "\n",
       "    .dataframe tbody tr th {\n",
       "        vertical-align: top;\n",
       "    }\n",
       "\n",
       "    .dataframe thead th {\n",
       "        text-align: right;\n",
       "    }\n",
       "</style>\n",
       "<table border=\"1\" class=\"dataframe\">\n",
       "  <thead>\n",
       "    <tr style=\"text-align: right;\">\n",
       "      <th></th>\n",
       "      <th>WIKI/GOOGL - Open</th>\n",
       "      <th>WIKI/GOOGL - High</th>\n",
       "      <th>WIKI/GOOGL - Low</th>\n",
       "      <th>WIKI/GOOGL - Close</th>\n",
       "      <th>WIKI/GOOGL - Volume</th>\n",
       "      <th>WIKI/GOOGL - Ex-Dividend</th>\n",
       "      <th>WIKI/GOOGL - Split Ratio</th>\n",
       "      <th>WIKI/GOOGL - Adj. Open</th>\n",
       "      <th>WIKI/GOOGL - Adj. High</th>\n",
       "      <th>WIKI/GOOGL - Adj. Low</th>\n",
       "      <th>...</th>\n",
       "      <th>WIKI/AAPL - Low</th>\n",
       "      <th>WIKI/AAPL - Close</th>\n",
       "      <th>WIKI/AAPL - Volume</th>\n",
       "      <th>WIKI/AAPL - Ex-Dividend</th>\n",
       "      <th>WIKI/AAPL - Split Ratio</th>\n",
       "      <th>WIKI/AAPL - Adj. Open</th>\n",
       "      <th>WIKI/AAPL - Adj. High</th>\n",
       "      <th>WIKI/AAPL - Adj. Low</th>\n",
       "      <th>WIKI/AAPL - Adj. Close</th>\n",
       "      <th>WIKI/AAPL - Adj. Volume</th>\n",
       "    </tr>\n",
       "    <tr>\n",
       "      <th>Date</th>\n",
       "      <th></th>\n",
       "      <th></th>\n",
       "      <th></th>\n",
       "      <th></th>\n",
       "      <th></th>\n",
       "      <th></th>\n",
       "      <th></th>\n",
       "      <th></th>\n",
       "      <th></th>\n",
       "      <th></th>\n",
       "      <th></th>\n",
       "      <th></th>\n",
       "      <th></th>\n",
       "      <th></th>\n",
       "      <th></th>\n",
       "      <th></th>\n",
       "      <th></th>\n",
       "      <th></th>\n",
       "      <th></th>\n",
       "      <th></th>\n",
       "      <th></th>\n",
       "    </tr>\n",
       "  </thead>\n",
       "  <tbody>\n",
       "    <tr>\n",
       "      <th>2004-08-19</th>\n",
       "      <td>100.01</td>\n",
       "      <td>104.06</td>\n",
       "      <td>95.96</td>\n",
       "      <td>100.335</td>\n",
       "      <td>44659000.0</td>\n",
       "      <td>0.0</td>\n",
       "      <td>1.0</td>\n",
       "      <td>50.159839</td>\n",
       "      <td>52.191109</td>\n",
       "      <td>48.128568</td>\n",
       "      <td>...</td>\n",
       "      <td>30.36</td>\n",
       "      <td>30.71</td>\n",
       "      <td>6945000.0</td>\n",
       "      <td>0.0</td>\n",
       "      <td>1.0</td>\n",
       "      <td>2.024737</td>\n",
       "      <td>2.047227</td>\n",
       "      <td>1.950842</td>\n",
       "      <td>1.973332</td>\n",
       "      <td>97230000.0</td>\n",
       "    </tr>\n",
       "    <tr>\n",
       "      <th>2004-08-20</th>\n",
       "      <td>101.01</td>\n",
       "      <td>109.08</td>\n",
       "      <td>100.50</td>\n",
       "      <td>108.310</td>\n",
       "      <td>22834300.0</td>\n",
       "      <td>0.0</td>\n",
       "      <td>1.0</td>\n",
       "      <td>50.661387</td>\n",
       "      <td>54.708881</td>\n",
       "      <td>50.405597</td>\n",
       "      <td>...</td>\n",
       "      <td>30.49</td>\n",
       "      <td>30.80</td>\n",
       "      <td>5656800.0</td>\n",
       "      <td>0.0</td>\n",
       "      <td>1.0</td>\n",
       "      <td>1.973332</td>\n",
       "      <td>1.991323</td>\n",
       "      <td>1.959195</td>\n",
       "      <td>1.979115</td>\n",
       "      <td>79195200.0</td>\n",
       "    </tr>\n",
       "    <tr>\n",
       "      <th>2004-08-23</th>\n",
       "      <td>110.76</td>\n",
       "      <td>113.48</td>\n",
       "      <td>109.05</td>\n",
       "      <td>109.400</td>\n",
       "      <td>18256100.0</td>\n",
       "      <td>0.0</td>\n",
       "      <td>1.0</td>\n",
       "      <td>55.551482</td>\n",
       "      <td>56.915693</td>\n",
       "      <td>54.693835</td>\n",
       "      <td>...</td>\n",
       "      <td>30.60</td>\n",
       "      <td>31.08</td>\n",
       "      <td>4547500.0</td>\n",
       "      <td>0.0</td>\n",
       "      <td>1.0</td>\n",
       "      <td>1.982970</td>\n",
       "      <td>2.009315</td>\n",
       "      <td>1.966263</td>\n",
       "      <td>1.997107</td>\n",
       "      <td>63665000.0</td>\n",
       "    </tr>\n",
       "    <tr>\n",
       "      <th>2004-08-24</th>\n",
       "      <td>111.24</td>\n",
       "      <td>111.60</td>\n",
       "      <td>103.57</td>\n",
       "      <td>104.870</td>\n",
       "      <td>15247300.0</td>\n",
       "      <td>0.0</td>\n",
       "      <td>1.0</td>\n",
       "      <td>55.792225</td>\n",
       "      <td>55.972783</td>\n",
       "      <td>51.945350</td>\n",
       "      <td>...</td>\n",
       "      <td>31.19</td>\n",
       "      <td>31.95</td>\n",
       "      <td>6681000.0</td>\n",
       "      <td>0.0</td>\n",
       "      <td>1.0</td>\n",
       "      <td>2.008673</td>\n",
       "      <td>2.053010</td>\n",
       "      <td>2.004175</td>\n",
       "      <td>2.053010</td>\n",
       "      <td>93534000.0</td>\n",
       "    </tr>\n",
       "    <tr>\n",
       "      <th>2004-08-25</th>\n",
       "      <td>104.76</td>\n",
       "      <td>108.00</td>\n",
       "      <td>103.88</td>\n",
       "      <td>106.000</td>\n",
       "      <td>9188600.0</td>\n",
       "      <td>0.0</td>\n",
       "      <td>1.0</td>\n",
       "      <td>52.542193</td>\n",
       "      <td>54.167209</td>\n",
       "      <td>52.100830</td>\n",
       "      <td>...</td>\n",
       "      <td>31.73</td>\n",
       "      <td>33.05</td>\n",
       "      <td>9028900.0</td>\n",
       "      <td>0.0</td>\n",
       "      <td>1.0</td>\n",
       "      <td>2.050440</td>\n",
       "      <td>2.130119</td>\n",
       "      <td>2.038874</td>\n",
       "      <td>2.123693</td>\n",
       "      <td>126404600.0</td>\n",
       "    </tr>\n",
       "  </tbody>\n",
       "</table>\n",
       "<p>5 rows × 60 columns</p>\n",
       "</div>"
      ],
      "text/plain": [
       "            WIKI/GOOGL - Open  WIKI/GOOGL - High  WIKI/GOOGL - Low  \\\n",
       "Date                                                                 \n",
       "2004-08-19             100.01             104.06             95.96   \n",
       "2004-08-20             101.01             109.08            100.50   \n",
       "2004-08-23             110.76             113.48            109.05   \n",
       "2004-08-24             111.24             111.60            103.57   \n",
       "2004-08-25             104.76             108.00            103.88   \n",
       "\n",
       "            WIKI/GOOGL - Close  WIKI/GOOGL - Volume  WIKI/GOOGL - Ex-Dividend  \\\n",
       "Date                                                                            \n",
       "2004-08-19             100.335           44659000.0                       0.0   \n",
       "2004-08-20             108.310           22834300.0                       0.0   \n",
       "2004-08-23             109.400           18256100.0                       0.0   \n",
       "2004-08-24             104.870           15247300.0                       0.0   \n",
       "2004-08-25             106.000            9188600.0                       0.0   \n",
       "\n",
       "            WIKI/GOOGL - Split Ratio  WIKI/GOOGL - Adj. Open  \\\n",
       "Date                                                           \n",
       "2004-08-19                       1.0               50.159839   \n",
       "2004-08-20                       1.0               50.661387   \n",
       "2004-08-23                       1.0               55.551482   \n",
       "2004-08-24                       1.0               55.792225   \n",
       "2004-08-25                       1.0               52.542193   \n",
       "\n",
       "            WIKI/GOOGL - Adj. High  WIKI/GOOGL - Adj. Low  \\\n",
       "Date                                                        \n",
       "2004-08-19               52.191109              48.128568   \n",
       "2004-08-20               54.708881              50.405597   \n",
       "2004-08-23               56.915693              54.693835   \n",
       "2004-08-24               55.972783              51.945350   \n",
       "2004-08-25               54.167209              52.100830   \n",
       "\n",
       "                     ...             WIKI/AAPL - Low  WIKI/AAPL - Close  \\\n",
       "Date                 ...                                                  \n",
       "2004-08-19           ...                       30.36              30.71   \n",
       "2004-08-20           ...                       30.49              30.80   \n",
       "2004-08-23           ...                       30.60              31.08   \n",
       "2004-08-24           ...                       31.19              31.95   \n",
       "2004-08-25           ...                       31.73              33.05   \n",
       "\n",
       "            WIKI/AAPL - Volume  WIKI/AAPL - Ex-Dividend  \\\n",
       "Date                                                      \n",
       "2004-08-19           6945000.0                      0.0   \n",
       "2004-08-20           5656800.0                      0.0   \n",
       "2004-08-23           4547500.0                      0.0   \n",
       "2004-08-24           6681000.0                      0.0   \n",
       "2004-08-25           9028900.0                      0.0   \n",
       "\n",
       "            WIKI/AAPL - Split Ratio  WIKI/AAPL - Adj. Open  \\\n",
       "Date                                                         \n",
       "2004-08-19                      1.0               2.024737   \n",
       "2004-08-20                      1.0               1.973332   \n",
       "2004-08-23                      1.0               1.982970   \n",
       "2004-08-24                      1.0               2.008673   \n",
       "2004-08-25                      1.0               2.050440   \n",
       "\n",
       "            WIKI/AAPL - Adj. High  WIKI/AAPL - Adj. Low  \\\n",
       "Date                                                      \n",
       "2004-08-19               2.047227              1.950842   \n",
       "2004-08-20               1.991323              1.959195   \n",
       "2004-08-23               2.009315              1.966263   \n",
       "2004-08-24               2.053010              2.004175   \n",
       "2004-08-25               2.130119              2.038874   \n",
       "\n",
       "            WIKI/AAPL - Adj. Close  WIKI/AAPL - Adj. Volume  \n",
       "Date                                                         \n",
       "2004-08-19                1.973332               97230000.0  \n",
       "2004-08-20                1.979115               79195200.0  \n",
       "2004-08-23                1.997107               63665000.0  \n",
       "2004-08-24                2.053010               93534000.0  \n",
       "2004-08-25                2.123693              126404600.0  \n",
       "\n",
       "[5 rows x 60 columns]"
      ]
     },
     "execution_count": 7,
     "metadata": {},
     "output_type": "execute_result"
    }
   ],
   "source": [
    "stocks_clean.head()\n"
   ]
  },
  {
   "cell_type": "code",
   "execution_count": 8,
   "metadata": {},
   "outputs": [
    {
     "data": {
      "image/png": "[encoded data removed]",
      "text/plain": [
       "<Figure size 432x288 with 1 Axes>"
      ]
     },
     "metadata": {},
     "output_type": "display_data"
    }
   ],
   "source": [
    "plt.plot(stocks_clean[\"WIKI/GOOGL - Open\"])\n",
    "plt.plot(stocks_clean[\"WIKI/AMZN - Open\"])\n",
    "plt.plot(stocks_clean[\"WIKI/IBM - Open\"])\n",
    "plt.plot(stocks_clean[\"WIKI/MSFT - Open\"])\n",
    "plt.plot(stocks_clean[\"WIKI/AAPL - Open\"])\n",
    "\n",
    "plt.show()\n"
   ]
  },
  {
   "cell_type": "code",
   "execution_count": 9,
   "metadata": {},
   "outputs": [],
   "source": [
    "# Problem 3\n",
    "\n",
    "def stocks_finder(x):\n",
    "        stocks_finder = plt.plot(quandl.get([\"WIKI/\"+ x],auth_token=\"CSpzhxRAuzQWywz_1s4s\"))\n",
    "        plt.show()\n",
    "        "
   ]
  },
  {
   "cell_type": "code",
   "execution_count": 10,
   "metadata": {},
   "outputs": [
    {
     "data": {
      "image/png": "[encoded data removed]",
      "text/plain": [
       "<Figure size 432x288 with 1 Axes>"
      ]
     },
     "metadata": {},
     "output_type": "display_data"
    }
   ],
   "source": [
    "stocks_finder(\"GOOGL\")\n"
   ]
  },
  {
   "cell_type": "code",
   "execution_count": 11,
   "metadata": {},
   "outputs": [
    {
     "data": {
      "image/png": "[encoded data removed]",
      "text/plain": [
       "<Figure size 432x288 with 1 Axes>"
      ]
     },
     "metadata": {},
     "output_type": "display_data"
    }
   ],
   "source": [
    "stocks_finder(\"AMZN\")"
   ]
  },
  {
   "cell_type": "code",
   "execution_count": 12,
   "metadata": {},
   "outputs": [
    {
     "name": "stdout",
     "output_type": "stream",
     "text": [
      "[]\n"
     ]
    }
   ],
   "source": [
    "#Problem 4\n",
    "\n",
    "stocks_list=[\"AAPL\",\"GOOGL\",\"IBM\",\"MSFT\",\"FB\"]\n",
    "\n",
    "x=0\n",
    "while x<len(stocks_list):\n",
    "    stocks_list.pop(x)\n",
    "print(stocks_list)\n"
   ]
  },
  {
   "cell_type": "code",
   "execution_count": 13,
   "metadata": {},
   "outputs": [
    {
     "name": "stdout",
     "output_type": "stream",
     "text": [
      "['One Digit Numbers-', 1, 4, 6, 2, 3]\n",
      "['Two Digit Numbers-', 27, 98, 45, 65, 42]\n",
      "['Three Digit Numbers-', 456, 987, 312, 642]\n"
     ]
    }
   ],
   "source": [
    "#Problem 5\n",
    "\n",
    "list=[1,4,27,456,98,6,987,2,3,45,65,312,642,42] \n",
    "one_digit=[\"One Digit Numbers-\"]\n",
    "two_digits=[\"Two Digit Numbers-\"]\n",
    "three_digits=[\"Three Digit Numbers-\"] \n",
    "for i in range(len(list)): \n",
    "    num= str(list[i]) \n",
    "    if len(num)==1: \n",
    "        x=int(num) \n",
    "        one_digit.append(x) \n",
    "    elif len(num)==2: \n",
    "        x=int(num) \n",
    "        two_digits.append(x)\n",
    "    else: \n",
    "        x=int(num) \n",
    "        three_digits.append(x) \n",
    "print(one_digit)\n",
    "print(two_digits) \n",
    "print(three_digits)\n",
    "\n",
    "\n",
    "\n",
    "\n"
   ]
  },
  {
   "cell_type": "code",
   "execution_count": 14,
   "metadata": {},
   "outputs": [
    {
     "name": "stdout",
     "output_type": "stream",
     "text": [
      "superman\n",
      "super woman\n",
      "supercool\n",
      "super grade\n",
      "super student\n"
     ]
    }
   ],
   "source": [
    "#Problem # 6\n",
    "\n",
    "list = [\"man\",\"woman\",\"cool\",\"grade\",\"student\"]\n",
    "\n",
    "x=0\n",
    "while x<len(list):\n",
    "    if len(list[x])>4:\n",
    "        print(\"super \"+ list[x]) \n",
    "    else:\n",
    "        print(\"super\" + list[x])\n",
    "    x=x+1\n",
    "    \n",
    "    \n",
    "\n"
   ]
  },
  {
   "cell_type": "code",
   "execution_count": 15,
   "metadata": {},
   "outputs": [],
   "source": [
    "#Problem 7\n",
    "\n",
    "\n",
    "unemprate=quandl.get(\"FRED/SLUEM1524ZSARM\",auth_token=\"CSpzhxRAuzQWywz_1s4s\")"
   ]
  },
  {
   "cell_type": "code",
   "execution_count": 16,
   "metadata": {},
   "outputs": [
    {
     "data": {
      "text/html": [
       "<div>\n",
       "<style scoped>\n",
       "    .dataframe tbody tr th:only-of-type {\n",
       "        vertical-align: middle;\n",
       "    }\n",
       "\n",
       "    .dataframe tbody tr th {\n",
       "        vertical-align: top;\n",
       "    }\n",
       "\n",
       "    .dataframe thead th {\n",
       "        text-align: right;\n",
       "    }\n",
       "</style>\n",
       "<table border=\"1\" class=\"dataframe\">\n",
       "  <thead>\n",
       "    <tr style=\"text-align: right;\">\n",
       "      <th></th>\n",
       "      <th>Value</th>\n",
       "    </tr>\n",
       "    <tr>\n",
       "      <th>Date</th>\n",
       "      <th></th>\n",
       "    </tr>\n",
       "  </thead>\n",
       "  <tbody>\n",
       "    <tr>\n",
       "      <th>1991-01-01</th>\n",
       "      <td>4.507</td>\n",
       "    </tr>\n",
       "    <tr>\n",
       "      <th>1992-01-01</th>\n",
       "      <td>3.866</td>\n",
       "    </tr>\n",
       "    <tr>\n",
       "      <th>1993-01-01</th>\n",
       "      <td>11.425</td>\n",
       "    </tr>\n",
       "    <tr>\n",
       "      <th>1994-01-01</th>\n",
       "      <td>14.266</td>\n",
       "    </tr>\n",
       "    <tr>\n",
       "      <th>1995-01-01</th>\n",
       "      <td>14.512</td>\n",
       "    </tr>\n",
       "  </tbody>\n",
       "</table>\n",
       "</div>"
      ],
      "text/plain": [
       "             Value\n",
       "Date              \n",
       "1991-01-01   4.507\n",
       "1992-01-01   3.866\n",
       "1993-01-01  11.425\n",
       "1994-01-01  14.266\n",
       "1995-01-01  14.512"
      ]
     },
     "execution_count": 16,
     "metadata": {},
     "output_type": "execute_result"
    }
   ],
   "source": [
    "unemprate.head()"
   ]
  },
  {
   "cell_type": "code",
   "execution_count": 17,
   "metadata": {},
   "outputs": [
    {
     "data": {
      "text/plain": [
       "<matplotlib.axes._subplots.AxesSubplot at 0x10e2d9748>"
      ]
     },
     "execution_count": 17,
     "metadata": {},
     "output_type": "execute_result"
    },
    {
     "data": {
      "image/png": "[encoded data removed]",
      "text/plain": [
       "<Figure size 432x288 with 1 Axes>"
      ]
     },
     "metadata": {},
     "output_type": "display_data"
    }
   ],
   "source": [
    "unemprate.plot()"
   ]
  },
  {
   "cell_type": "code",
   "execution_count": 18,
   "metadata": {},
   "outputs": [
    {
     "data": {
      "text/html": [
       "<div>\n",
       "<style scoped>\n",
       "    .dataframe tbody tr th:only-of-type {\n",
       "        vertical-align: middle;\n",
       "    }\n",
       "\n",
       "    .dataframe tbody tr th {\n",
       "        vertical-align: top;\n",
       "    }\n",
       "\n",
       "    .dataframe thead th {\n",
       "        text-align: right;\n",
       "    }\n",
       "</style>\n",
       "<table border=\"1\" class=\"dataframe\">\n",
       "  <thead>\n",
       "    <tr style=\"text-align: right;\">\n",
       "      <th></th>\n",
       "      <th>Value</th>\n",
       "    </tr>\n",
       "    <tr>\n",
       "      <th>Date</th>\n",
       "      <th></th>\n",
       "    </tr>\n",
       "  </thead>\n",
       "  <tbody>\n",
       "    <tr>\n",
       "      <th>2001-01-01</th>\n",
       "      <td>21.724001</td>\n",
       "    </tr>\n",
       "  </tbody>\n",
       "</table>\n",
       "</div>"
      ],
      "text/plain": [
       "                Value\n",
       "Date                 \n",
       "2001-01-01  21.724001"
      ]
     },
     "execution_count": 18,
     "metadata": {},
     "output_type": "execute_result"
    }
   ],
   "source": [
    "unemprate[\"2001\"]\n"
   ]
  },
  {
   "cell_type": "code",
   "execution_count": 19,
   "metadata": {},
   "outputs": [
    {
     "data": {
      "text/plain": [
       "Value    24.942815\n",
       "dtype: float64"
      ]
     },
     "execution_count": 19,
     "metadata": {},
     "output_type": "execute_result"
    }
   ],
   "source": [
    "unemprate.mean()\n"
   ]
  },
  {
   "cell_type": "code",
   "execution_count": 20,
   "metadata": {},
   "outputs": [
    {
     "data": {
      "text/plain": [
       "Value    22.882\n",
       "dtype: float64"
      ]
     },
     "execution_count": 20,
     "metadata": {},
     "output_type": "execute_result"
    }
   ],
   "source": [
    "unemprate.median()"
   ]
  },
  {
   "cell_type": "code",
   "execution_count": 21,
   "metadata": {},
   "outputs": [],
   "source": [
    "unemprate = unemprate.astype(int)\n",
    "\n"
   ]
  },
  {
   "cell_type": "code",
   "execution_count": 22,
   "metadata": {},
   "outputs": [
    {
     "data": {
      "text/html": [
       "<div>\n",
       "<style scoped>\n",
       "    .dataframe tbody tr th:only-of-type {\n",
       "        vertical-align: middle;\n",
       "    }\n",
       "\n",
       "    .dataframe tbody tr th {\n",
       "        vertical-align: top;\n",
       "    }\n",
       "\n",
       "    .dataframe thead th {\n",
       "        text-align: right;\n",
       "    }\n",
       "</style>\n",
       "<table border=\"1\" class=\"dataframe\">\n",
       "  <thead>\n",
       "    <tr style=\"text-align: right;\">\n",
       "      <th></th>\n",
       "      <th>Value</th>\n",
       "    </tr>\n",
       "  </thead>\n",
       "  <tbody>\n",
       "    <tr>\n",
       "      <th>0</th>\n",
       "      <td>20</td>\n",
       "    </tr>\n",
       "    <tr>\n",
       "      <th>1</th>\n",
       "      <td>21</td>\n",
       "    </tr>\n",
       "  </tbody>\n",
       "</table>\n",
       "</div>"
      ],
      "text/plain": [
       "   Value\n",
       "0     20\n",
       "1     21"
      ]
     },
     "execution_count": 22,
     "metadata": {},
     "output_type": "execute_result"
    }
   ],
   "source": [
    "unemprate.mode()"
   ]
  },
  {
   "cell_type": "code",
   "execution_count": 23,
   "metadata": {},
   "outputs": [
    {
     "data": {
      "text/plain": [
       "Value   2009-01-01\n",
       "dtype: datetime64[ns]"
      ]
     },
     "execution_count": 23,
     "metadata": {},
     "output_type": "execute_result"
    }
   ],
   "source": [
    "unemprate.idxmax()\n"
   ]
  },
  {
   "cell_type": "code",
   "execution_count": 24,
   "metadata": {},
   "outputs": [],
   "source": [
    "#Problem 8\n",
    "\n",
    "proppr = quandl.get(\"ZILLOW/C25499_MLPFAH\",auth_token=\"CSpzhxRAuzQWywz_1s4s\")"
   ]
  },
  {
   "cell_type": "code",
   "execution_count": 25,
   "metadata": {},
   "outputs": [
    {
     "data": {
      "text/html": [
       "<div>\n",
       "<style scoped>\n",
       "    .dataframe tbody tr th:only-of-type {\n",
       "        vertical-align: middle;\n",
       "    }\n",
       "\n",
       "    .dataframe tbody tr th {\n",
       "        vertical-align: top;\n",
       "    }\n",
       "\n",
       "    .dataframe thead th {\n",
       "        text-align: right;\n",
       "    }\n",
       "</style>\n",
       "<table border=\"1\" class=\"dataframe\">\n",
       "  <thead>\n",
       "    <tr style=\"text-align: right;\">\n",
       "      <th></th>\n",
       "      <th>Value</th>\n",
       "    </tr>\n",
       "    <tr>\n",
       "      <th>Date</th>\n",
       "      <th></th>\n",
       "    </tr>\n",
       "  </thead>\n",
       "  <tbody>\n",
       "    <tr>\n",
       "      <th>2013-04-30</th>\n",
       "      <td>178.571429</td>\n",
       "    </tr>\n",
       "    <tr>\n",
       "      <th>2013-05-31</th>\n",
       "      <td>178.571429</td>\n",
       "    </tr>\n",
       "    <tr>\n",
       "      <th>2013-06-30</th>\n",
       "      <td>185.380865</td>\n",
       "    </tr>\n",
       "  </tbody>\n",
       "</table>\n",
       "</div>"
      ],
      "text/plain": [
       "                 Value\n",
       "Date                  \n",
       "2013-04-30  178.571429\n",
       "2013-05-31  178.571429\n",
       "2013-06-30  185.380865"
      ]
     },
     "execution_count": 25,
     "metadata": {},
     "output_type": "execute_result"
    }
   ],
   "source": [
    "proppr.head(3)"
   ]
  },
  {
   "cell_type": "code",
   "execution_count": 26,
   "metadata": {},
   "outputs": [],
   "source": [
    "median = proppr.median()"
   ]
  },
  {
   "cell_type": "code",
   "execution_count": 27,
   "metadata": {},
   "outputs": [
    {
     "data": {
      "text/plain": [
       "Value    152.957085\n",
       "dtype: float64"
      ]
     },
     "execution_count": 27,
     "metadata": {},
     "output_type": "execute_result"
    }
   ],
   "source": [
    "median\n",
    "\n"
   ]
  },
  {
   "cell_type": "code",
   "execution_count": 28,
   "metadata": {},
   "outputs": [
    {
     "data": {
      "text/plain": [
       "Text(0,0.5,'Date')"
      ]
     },
     "execution_count": 28,
     "metadata": {},
     "output_type": "execute_result"
    },
    {
     "data": {
      "image/png": "[encoded data removed]",
      "text/plain": [
       "<Figure size 432x288 with 1 Axes>"
      ]
     },
     "metadata": {},
     "output_type": "display_data"
    }
   ],
   "source": [
    "proppr.Value.hist(bins=15,color=\"r\").set_title(\"Property Prices\")\n",
    "plt.xlabel(\"Median Price\")\n",
    "plt.ylabel(\"Date\")\n"
   ]
  },
  {
   "cell_type": "code",
   "execution_count": 29,
   "metadata": {},
   "outputs": [],
   "source": [
    "Price_Classification = []\n",
    "for i in proppr.Value:\n",
    "    if i>=int(170):\n",
    "        Price_Classification.append(\"High\")\n",
    "    elif 170>i>int(160):\n",
    "        Price_Classification.append(\"Medium\")\n",
    "    else:\n",
    "        Price_Classification.append(\"Low\")\n",
    "        \n",
    "    "
   ]
  },
  {
   "cell_type": "code",
   "execution_count": 30,
   "metadata": {},
   "outputs": [
    {
     "data": {
      "text/plain": [
       "['High',\n",
       " 'High',\n",
       " 'High',\n",
       " 'High',\n",
       " 'Medium',\n",
       " 'Medium',\n",
       " 'Medium',\n",
       " 'Medium',\n",
       " 'Medium',\n",
       " 'Medium',\n",
       " 'Medium',\n",
       " 'High',\n",
       " 'High',\n",
       " 'Medium',\n",
       " 'Low',\n",
       " 'Low',\n",
       " 'Low',\n",
       " 'Low',\n",
       " 'Low',\n",
       " 'Low',\n",
       " 'Low',\n",
       " 'Low',\n",
       " 'Low',\n",
       " 'Low',\n",
       " 'Low',\n",
       " 'Low',\n",
       " 'Low',\n",
       " 'Low',\n",
       " 'Low',\n",
       " 'Low',\n",
       " 'Medium',\n",
       " 'Medium',\n",
       " 'Low',\n",
       " 'Low',\n",
       " 'Low',\n",
       " 'Low',\n",
       " 'Low',\n",
       " 'Low',\n",
       " 'Low',\n",
       " 'Low',\n",
       " 'Low',\n",
       " 'Medium',\n",
       " 'High',\n",
       " 'Medium',\n",
       " 'Medium',\n",
       " 'Low',\n",
       " 'Low',\n",
       " 'Low',\n",
       " 'Low',\n",
       " 'Low',\n",
       " 'Low',\n",
       " 'Low',\n",
       " 'Low',\n",
       " 'Low',\n",
       " 'Low',\n",
       " 'Low',\n",
       " 'Low',\n",
       " 'Low',\n",
       " 'Low',\n",
       " 'Low']"
      ]
     },
     "execution_count": 30,
     "metadata": {},
     "output_type": "execute_result"
    }
   ],
   "source": [
    "Price_Classification"
   ]
  },
  {
   "cell_type": "code",
   "execution_count": 31,
   "metadata": {},
   "outputs": [],
   "source": [
    "se=pd.Series(Price_Classification)"
   ]
  },
  {
   "cell_type": "code",
   "execution_count": 32,
   "metadata": {},
   "outputs": [
    {
     "data": {
      "text/plain": [
       "pandas.core.series.Series"
      ]
     },
     "execution_count": 32,
     "metadata": {},
     "output_type": "execute_result"
    }
   ],
   "source": [
    "type(se)"
   ]
  },
  {
   "cell_type": "code",
   "execution_count": 33,
   "metadata": {},
   "outputs": [],
   "source": [
    "proppr[\"Price Class\"]=se.values"
   ]
  },
  {
   "cell_type": "code",
   "execution_count": 34,
   "metadata": {},
   "outputs": [
    {
     "data": {
      "text/html": [
       "<div>\n",
       "<style scoped>\n",
       "    .dataframe tbody tr th:only-of-type {\n",
       "        vertical-align: middle;\n",
       "    }\n",
       "\n",
       "    .dataframe tbody tr th {\n",
       "        vertical-align: top;\n",
       "    }\n",
       "\n",
       "    .dataframe thead th {\n",
       "        text-align: right;\n",
       "    }\n",
       "</style>\n",
       "<table border=\"1\" class=\"dataframe\">\n",
       "  <thead>\n",
       "    <tr style=\"text-align: right;\">\n",
       "      <th></th>\n",
       "      <th>Value</th>\n",
       "      <th>Price Class</th>\n",
       "    </tr>\n",
       "    <tr>\n",
       "      <th>Date</th>\n",
       "      <th></th>\n",
       "      <th></th>\n",
       "    </tr>\n",
       "  </thead>\n",
       "  <tbody>\n",
       "    <tr>\n",
       "      <th>2013-04-30</th>\n",
       "      <td>178.571429</td>\n",
       "      <td>High</td>\n",
       "    </tr>\n",
       "    <tr>\n",
       "      <th>2013-05-31</th>\n",
       "      <td>178.571429</td>\n",
       "      <td>High</td>\n",
       "    </tr>\n",
       "    <tr>\n",
       "      <th>2013-06-30</th>\n",
       "      <td>185.380865</td>\n",
       "      <td>High</td>\n",
       "    </tr>\n",
       "    <tr>\n",
       "      <th>2013-07-31</th>\n",
       "      <td>176.747442</td>\n",
       "      <td>High</td>\n",
       "    </tr>\n",
       "    <tr>\n",
       "      <th>2013-08-31</th>\n",
       "      <td>166.666667</td>\n",
       "      <td>Medium</td>\n",
       "    </tr>\n",
       "    <tr>\n",
       "      <th>2013-09-30</th>\n",
       "      <td>167.599502</td>\n",
       "      <td>Medium</td>\n",
       "    </tr>\n",
       "    <tr>\n",
       "      <th>2013-10-31</th>\n",
       "      <td>169.025157</td>\n",
       "      <td>Medium</td>\n",
       "    </tr>\n",
       "    <tr>\n",
       "      <th>2013-11-30</th>\n",
       "      <td>160.929092</td>\n",
       "      <td>Medium</td>\n",
       "    </tr>\n",
       "    <tr>\n",
       "      <th>2013-12-31</th>\n",
       "      <td>165.282392</td>\n",
       "      <td>Medium</td>\n",
       "    </tr>\n",
       "    <tr>\n",
       "      <th>2014-01-31</th>\n",
       "      <td>167.153775</td>\n",
       "      <td>Medium</td>\n",
       "    </tr>\n",
       "    <tr>\n",
       "      <th>2014-02-28</th>\n",
       "      <td>166.666667</td>\n",
       "      <td>Medium</td>\n",
       "    </tr>\n",
       "    <tr>\n",
       "      <th>2014-03-31</th>\n",
       "      <td>172.686604</td>\n",
       "      <td>High</td>\n",
       "    </tr>\n",
       "    <tr>\n",
       "      <th>2014-04-30</th>\n",
       "      <td>172.207447</td>\n",
       "      <td>High</td>\n",
       "    </tr>\n",
       "    <tr>\n",
       "      <th>2014-05-31</th>\n",
       "      <td>161.466408</td>\n",
       "      <td>Medium</td>\n",
       "    </tr>\n",
       "    <tr>\n",
       "      <th>2014-06-30</th>\n",
       "      <td>156.976744</td>\n",
       "      <td>Low</td>\n",
       "    </tr>\n",
       "    <tr>\n",
       "      <th>2014-07-31</th>\n",
       "      <td>142.410714</td>\n",
       "      <td>Low</td>\n",
       "    </tr>\n",
       "    <tr>\n",
       "      <th>2014-08-31</th>\n",
       "      <td>144.152523</td>\n",
       "      <td>Low</td>\n",
       "    </tr>\n",
       "    <tr>\n",
       "      <th>2014-09-30</th>\n",
       "      <td>145.656780</td>\n",
       "      <td>Low</td>\n",
       "    </tr>\n",
       "    <tr>\n",
       "      <th>2014-10-31</th>\n",
       "      <td>150.291745</td>\n",
       "      <td>Low</td>\n",
       "    </tr>\n",
       "    <tr>\n",
       "      <th>2014-11-30</th>\n",
       "      <td>152.343542</td>\n",
       "      <td>Low</td>\n",
       "    </tr>\n",
       "    <tr>\n",
       "      <th>2014-12-31</th>\n",
       "      <td>152.343542</td>\n",
       "      <td>Low</td>\n",
       "    </tr>\n",
       "    <tr>\n",
       "      <th>2015-01-31</th>\n",
       "      <td>150.387968</td>\n",
       "      <td>Low</td>\n",
       "    </tr>\n",
       "    <tr>\n",
       "      <th>2015-02-28</th>\n",
       "      <td>154.441006</td>\n",
       "      <td>Low</td>\n",
       "    </tr>\n",
       "    <tr>\n",
       "      <th>2015-03-31</th>\n",
       "      <td>157.130952</td>\n",
       "      <td>Low</td>\n",
       "    </tr>\n",
       "    <tr>\n",
       "      <th>2015-04-30</th>\n",
       "      <td>154.761905</td>\n",
       "      <td>Low</td>\n",
       "    </tr>\n",
       "    <tr>\n",
       "      <th>2015-05-31</th>\n",
       "      <td>149.999583</td>\n",
       "      <td>Low</td>\n",
       "    </tr>\n",
       "    <tr>\n",
       "      <th>2015-06-30</th>\n",
       "      <td>148.054146</td>\n",
       "      <td>Low</td>\n",
       "    </tr>\n",
       "    <tr>\n",
       "      <th>2015-07-31</th>\n",
       "      <td>152.357673</td>\n",
       "      <td>Low</td>\n",
       "    </tr>\n",
       "    <tr>\n",
       "      <th>2015-08-31</th>\n",
       "      <td>148.054146</td>\n",
       "      <td>Low</td>\n",
       "    </tr>\n",
       "    <tr>\n",
       "      <th>2015-09-30</th>\n",
       "      <td>154.715762</td>\n",
       "      <td>Low</td>\n",
       "    </tr>\n",
       "    <tr>\n",
       "      <th>2015-10-31</th>\n",
       "      <td>165.719697</td>\n",
       "      <td>Medium</td>\n",
       "    </tr>\n",
       "    <tr>\n",
       "      <th>2015-11-30</th>\n",
       "      <td>165.719697</td>\n",
       "      <td>Medium</td>\n",
       "    </tr>\n",
       "    <tr>\n",
       "      <th>2015-12-31</th>\n",
       "      <td>158.990168</td>\n",
       "      <td>Low</td>\n",
       "    </tr>\n",
       "    <tr>\n",
       "      <th>2016-01-31</th>\n",
       "      <td>158.990168</td>\n",
       "      <td>Low</td>\n",
       "    </tr>\n",
       "    <tr>\n",
       "      <th>2016-02-29</th>\n",
       "      <td>146.204168</td>\n",
       "      <td>Low</td>\n",
       "    </tr>\n",
       "    <tr>\n",
       "      <th>2016-03-31</th>\n",
       "      <td>148.255814</td>\n",
       "      <td>Low</td>\n",
       "    </tr>\n",
       "    <tr>\n",
       "      <th>2016-04-30</th>\n",
       "      <td>145.340150</td>\n",
       "      <td>Low</td>\n",
       "    </tr>\n",
       "    <tr>\n",
       "      <th>2016-05-31</th>\n",
       "      <td>144.152523</td>\n",
       "      <td>Low</td>\n",
       "    </tr>\n",
       "    <tr>\n",
       "      <th>2016-06-30</th>\n",
       "      <td>144.152523</td>\n",
       "      <td>Low</td>\n",
       "    </tr>\n",
       "    <tr>\n",
       "      <th>2016-07-31</th>\n",
       "      <td>153.556496</td>\n",
       "      <td>Low</td>\n",
       "    </tr>\n",
       "    <tr>\n",
       "      <th>2016-08-31</th>\n",
       "      <td>157.471093</td>\n",
       "      <td>Low</td>\n",
       "    </tr>\n",
       "    <tr>\n",
       "      <th>2016-09-30</th>\n",
       "      <td>166.272727</td>\n",
       "      <td>Medium</td>\n",
       "    </tr>\n",
       "    <tr>\n",
       "      <th>2016-10-31</th>\n",
       "      <td>171.289349</td>\n",
       "      <td>High</td>\n",
       "    </tr>\n",
       "    <tr>\n",
       "      <th>2016-11-30</th>\n",
       "      <td>166.272727</td>\n",
       "      <td>Medium</td>\n",
       "    </tr>\n",
       "    <tr>\n",
       "      <th>2016-12-31</th>\n",
       "      <td>164.085821</td>\n",
       "      <td>Medium</td>\n",
       "    </tr>\n",
       "    <tr>\n",
       "      <th>2017-01-31</th>\n",
       "      <td>155.586081</td>\n",
       "      <td>Low</td>\n",
       "    </tr>\n",
       "    <tr>\n",
       "      <th>2017-02-28</th>\n",
       "      <td>149.224486</td>\n",
       "      <td>Low</td>\n",
       "    </tr>\n",
       "    <tr>\n",
       "      <th>2017-03-31</th>\n",
       "      <td>149.107143</td>\n",
       "      <td>Low</td>\n",
       "    </tr>\n",
       "    <tr>\n",
       "      <th>2017-04-30</th>\n",
       "      <td>151.785714</td>\n",
       "      <td>Low</td>\n",
       "    </tr>\n",
       "    <tr>\n",
       "      <th>2017-05-31</th>\n",
       "      <td>149.107143</td>\n",
       "      <td>Low</td>\n",
       "    </tr>\n",
       "    <tr>\n",
       "      <th>2017-06-30</th>\n",
       "      <td>151.903057</td>\n",
       "      <td>Low</td>\n",
       "    </tr>\n",
       "    <tr>\n",
       "      <th>2017-07-31</th>\n",
       "      <td>151.903057</td>\n",
       "      <td>Low</td>\n",
       "    </tr>\n",
       "    <tr>\n",
       "      <th>2017-08-31</th>\n",
       "      <td>152.020400</td>\n",
       "      <td>Low</td>\n",
       "    </tr>\n",
       "    <tr>\n",
       "      <th>2017-09-30</th>\n",
       "      <td>151.477833</td>\n",
       "      <td>Low</td>\n",
       "    </tr>\n",
       "    <tr>\n",
       "      <th>2017-10-31</th>\n",
       "      <td>145.813048</td>\n",
       "      <td>Low</td>\n",
       "    </tr>\n",
       "    <tr>\n",
       "      <th>2017-11-30</th>\n",
       "      <td>150.843468</td>\n",
       "      <td>Low</td>\n",
       "    </tr>\n",
       "    <tr>\n",
       "      <th>2017-12-31</th>\n",
       "      <td>146.829969</td>\n",
       "      <td>Low</td>\n",
       "    </tr>\n",
       "    <tr>\n",
       "      <th>2018-01-31</th>\n",
       "      <td>147.846890</td>\n",
       "      <td>Low</td>\n",
       "    </tr>\n",
       "    <tr>\n",
       "      <th>2018-02-28</th>\n",
       "      <td>150.843468</td>\n",
       "      <td>Low</td>\n",
       "    </tr>\n",
       "    <tr>\n",
       "      <th>2018-03-31</th>\n",
       "      <td>146.920361</td>\n",
       "      <td>Low</td>\n",
       "    </tr>\n",
       "  </tbody>\n",
       "</table>\n",
       "</div>"
      ],
      "text/plain": [
       "                 Value Price Class\n",
       "Date                              \n",
       "2013-04-30  178.571429        High\n",
       "2013-05-31  178.571429        High\n",
       "2013-06-30  185.380865        High\n",
       "2013-07-31  176.747442        High\n",
       "2013-08-31  166.666667      Medium\n",
       "2013-09-30  167.599502      Medium\n",
       "2013-10-31  169.025157      Medium\n",
       "2013-11-30  160.929092      Medium\n",
       "2013-12-31  165.282392      Medium\n",
       "2014-01-31  167.153775      Medium\n",
       "2014-02-28  166.666667      Medium\n",
       "2014-03-31  172.686604        High\n",
       "2014-04-30  172.207447        High\n",
       "2014-05-31  161.466408      Medium\n",
       "2014-06-30  156.976744         Low\n",
       "2014-07-31  142.410714         Low\n",
       "2014-08-31  144.152523         Low\n",
       "2014-09-30  145.656780         Low\n",
       "2014-10-31  150.291745         Low\n",
       "2014-11-30  152.343542         Low\n",
       "2014-12-31  152.343542         Low\n",
       "2015-01-31  150.387968         Low\n",
       "2015-02-28  154.441006         Low\n",
       "2015-03-31  157.130952         Low\n",
       "2015-04-30  154.761905         Low\n",
       "2015-05-31  149.999583         Low\n",
       "2015-06-30  148.054146         Low\n",
       "2015-07-31  152.357673         Low\n",
       "2015-08-31  148.054146         Low\n",
       "2015-09-30  154.715762         Low\n",
       "2015-10-31  165.719697      Medium\n",
       "2015-11-30  165.719697      Medium\n",
       "2015-12-31  158.990168         Low\n",
       "2016-01-31  158.990168         Low\n",
       "2016-02-29  146.204168         Low\n",
       "2016-03-31  148.255814         Low\n",
       "2016-04-30  145.340150         Low\n",
       "2016-05-31  144.152523         Low\n",
       "2016-06-30  144.152523         Low\n",
       "2016-07-31  153.556496         Low\n",
       "2016-08-31  157.471093         Low\n",
       "2016-09-30  166.272727      Medium\n",
       "2016-10-31  171.289349        High\n",
       "2016-11-30  166.272727      Medium\n",
       "2016-12-31  164.085821      Medium\n",
       "2017-01-31  155.586081         Low\n",
       "2017-02-28  149.224486         Low\n",
       "2017-03-31  149.107143         Low\n",
       "2017-04-30  151.785714         Low\n",
       "2017-05-31  149.107143         Low\n",
       "2017-06-30  151.903057         Low\n",
       "2017-07-31  151.903057         Low\n",
       "2017-08-31  152.020400         Low\n",
       "2017-09-30  151.477833         Low\n",
       "2017-10-31  145.813048         Low\n",
       "2017-11-30  150.843468         Low\n",
       "2017-12-31  146.829969         Low\n",
       "2018-01-31  147.846890         Low\n",
       "2018-02-28  150.843468         Low\n",
       "2018-03-31  146.920361         Low"
      ]
     },
     "execution_count": 34,
     "metadata": {},
     "output_type": "execute_result"
    }
   ],
   "source": [
    "proppr"
   ]
  },
  {
   "cell_type": "code",
   "execution_count": 35,
   "metadata": {},
   "outputs": [
    {
     "data": {
      "text/html": [
       "<div>\n",
       "<style scoped>\n",
       "    .dataframe tbody tr th:only-of-type {\n",
       "        vertical-align: middle;\n",
       "    }\n",
       "\n",
       "    .dataframe tbody tr th {\n",
       "        vertical-align: top;\n",
       "    }\n",
       "\n",
       "    .dataframe thead th {\n",
       "        text-align: right;\n",
       "    }\n",
       "</style>\n",
       "<table border=\"1\" class=\"dataframe\">\n",
       "  <thead>\n",
       "    <tr style=\"text-align: right;\">\n",
       "      <th></th>\n",
       "      <th>Value</th>\n",
       "    </tr>\n",
       "    <tr>\n",
       "      <th>Price Class</th>\n",
       "      <th></th>\n",
       "    </tr>\n",
       "  </thead>\n",
       "  <tbody>\n",
       "    <tr>\n",
       "      <th>High</th>\n",
       "      <td>4.960363</td>\n",
       "    </tr>\n",
       "    <tr>\n",
       "      <th>Low</th>\n",
       "      <td>4.289230</td>\n",
       "    </tr>\n",
       "    <tr>\n",
       "      <th>Medium</th>\n",
       "      <td>2.284924</td>\n",
       "    </tr>\n",
       "  </tbody>\n",
       "</table>\n",
       "</div>"
      ],
      "text/plain": [
       "                Value\n",
       "Price Class          \n",
       "High         4.960363\n",
       "Low          4.289230\n",
       "Medium       2.284924"
      ]
     },
     "execution_count": 35,
     "metadata": {},
     "output_type": "execute_result"
    }
   ],
   "source": [
    "pd.pivot_table(proppr,index=\"Price Class\",values=\"Value\",aggfunc=\"std\")"
   ]
  },
  {
   "cell_type": "code",
   "execution_count": 37,
   "metadata": {},
   "outputs": [
    {
     "data": {
      "text/plain": [
       "146.92036092585"
      ]
     },
     "execution_count": 37,
     "metadata": {},
     "output_type": "execute_result"
    }
   ],
   "source": [
    "median"
   ]
  },
  {
   "cell_type": "code",
   "execution_count": 38,
   "metadata": {},
   "outputs": [
    {
     "data": {
      "text/plain": [
       "13"
      ]
     },
     "execution_count": 38,
     "metadata": {},
     "output_type": "execute_result"
    }
   ],
   "source": [
    "condition_1 = proppr.Value>160\n",
    "condition_2 = proppr.Value<170\n",
    "proppr.Value[condition_1 & condition_2].count()"
   ]
  },
  {
   "cell_type": "code",
   "execution_count": null,
   "metadata": {},
   "outputs": [],
   "source": []
  },
  {
   "cell_type": "code",
   "execution_count": null,
   "metadata": {},
   "outputs": [],
   "source": []
  }
 ],
 "metadata": {
  "kernelspec": {
   "display_name": "Python 3",
   "language": "python",
   "name": "python3"
  },
  "language_info": {
   "codemirror_mode": {
    "name": "ipython",
    "version": 3
   },
   "file_extension": ".py",
   "mimetype": "text/x-python",
   "name": "python",
   "nbconvert_exporter": "python",
   "pygments_lexer": "ipython3",
   "version": "3.6.5"
  }
 },
 "nbformat": 4,
 "nbformat_minor": 2
}
